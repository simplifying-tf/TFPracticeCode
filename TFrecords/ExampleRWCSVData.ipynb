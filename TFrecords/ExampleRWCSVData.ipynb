{
  "nbformat": 4,
  "nbformat_minor": 0,
  "metadata": {
    "colab": {
      "name": "ExampleRWCSVData.ipynb",
      "provenance": [],
      "collapsed_sections": []
    },
    "kernelspec": {
      "name": "python3",
      "display_name": "Python 3"
    },
    "language_info": {
      "name": "python"
    }
  },
  "cells": [
    {
      "cell_type": "markdown",
      "metadata": {
        "id": "iRLseIV0B2Ik"
      },
      "source": [
        "The task in this notebook is to read superstore sales data from a CSV, and then create TFRecords file from the data. This is a very simple approach and not suitable for large files."
      ]
    },
    {
      "cell_type": "code",
      "metadata": {
        "id": "3mGTLU5JAMwa"
      },
      "source": [
        "import tensorflow as tf\n",
        "\n",
        "import numpy as np\n",
        "import IPython.display as display"
      ],
      "execution_count": 21,
      "outputs": []
    },
    {
      "cell_type": "code",
      "metadata": {
        "id": "m8W27Y74DnAB"
      },
      "source": [
        "# The following functions can be used to convert a value to a type compatible\n",
        "# with tf.train.Example.\n",
        "\n",
        "def _bytes_feature(value):\n",
        "  \"\"\"Returns a bytes_list from a string / byte.\"\"\"\n",
        "  if isinstance(value, type(tf.constant(0))):\n",
        "    value = value.numpy() # BytesList won't unpack a string from an EagerTensor.\n",
        "  return tf.train.Feature(bytes_list=tf.train.BytesList(value=[value]))\n",
        "\n",
        "def _float_feature(value):\n",
        "  \"\"\"Returns a float_list from a float / double.\"\"\"\n",
        "  return tf.train.Feature(float_list=tf.train.FloatList(value=[value]))\n",
        "\n",
        "def _int64_feature(value):\n",
        "  \"\"\"Returns an int64_list from a bool / enum / int / uint.\"\"\"\n",
        "  return tf.train.Feature(int64_list=tf.train.Int64List(value=[value]))"
      ],
      "execution_count": 22,
      "outputs": []
    },
    {
      "cell_type": "code",
      "metadata": {
        "id": "jobjiQgJGvzX"
      },
      "source": [
        "def serialize_example(feature0, feature1, feature2, feature3, feature4, \n",
        "                      feature5, feature6, feature7, feature8, feature9, \n",
        "                      feature10, feature11, feature12, feature13, feature14, \n",
        "                      feature15, feature16, feature17):\n",
        "  \"\"\"\n",
        "  Creates a tf.train.Example message ready to be written to a file.\n",
        "  \"\"\"\n",
        "  # Create a dictionary mapping the feature name to the tf.train.Example-compatible\n",
        "  # data type.\n",
        "  feature = {\n",
        "      'feature0': _int64_feature(int(feature0)),\n",
        "      'feature1': _bytes_feature(str.encode(feature1)),\n",
        "      'feature2': _bytes_feature(str.encode(feature2)),\n",
        "      'feature3': _bytes_feature(str.encode(feature3)),\n",
        "      'feature4': _bytes_feature(str.encode(feature4)),\n",
        "      'feature5': _bytes_feature(str.encode(feature5)),\n",
        "      'feature6': _bytes_feature(str.encode(feature6)),\n",
        "      'feature7': _bytes_feature(str.encode(feature7)),\n",
        "      'feature8': _bytes_feature(str.encode(feature8)),\n",
        "      'feature9': _bytes_feature(str.encode(feature9)),\n",
        "      'feature10': _bytes_feature(str.encode(feature10)),\n",
        "      'feature11': _bytes_feature(str.encode(feature11)),\n",
        "      'feature12': _bytes_feature(str.encode(feature12)),\n",
        "      'feature13': _bytes_feature(str.encode(feature13)),\n",
        "      'feature14': _bytes_feature(str.encode(feature14)),\n",
        "      'feature15': _bytes_feature(str.encode(feature15)),\n",
        "      'feature16': _bytes_feature(str.encode(feature16)),\n",
        "      'feature17': _float_feature(float(feature17))\n",
        "  }\n",
        "\n",
        "  # Create a Features message using tf.train.Example.\n",
        "\n",
        "  example_proto = tf.train.Example(features=tf.train.Features(feature=feature))\n",
        "  return example_proto.SerializeToString()"
      ],
      "execution_count": 35,
      "outputs": []
    },
    {
      "cell_type": "code",
      "metadata": {
        "id": "C-pq3v5mMxZd"
      },
      "source": [
        "filename = 'test.tfrecord'"
      ],
      "execution_count": 36,
      "outputs": []
    },
    {
      "cell_type": "markdown",
      "metadata": {
        "id": "NPFt4NpzEBrR"
      },
      "source": [
        "# Reading the data from a CSV file and Writing to TFRecords"
      ]
    },
    {
      "cell_type": "code",
      "metadata": {
        "id": "T2kWwD5FDpZv"
      },
      "source": [
        "import csv\n",
        "headings = []\n",
        "rows = []\n",
        "with open('train.csv', mode ='r') as file:\n",
        "  csvFileReader = csv.reader(file)\n",
        "  headings = next(csvFileReader)\n",
        "  # displaying the contents of the CSV file\n",
        "  with tf.io.TFRecordWriter(filename, options = tf.io.TFRecordOptions(compression_type=\"GZIP\")) as writer:\n",
        "    for lines in csvFileReader:\n",
        "      example = serialize_example(lines[0],lines[1],lines[2],lines[3],lines[4],\n",
        "                                  lines[5],lines[6],lines[7],lines[8],lines[9],\n",
        "                                  lines[10],lines[11],lines[12],lines[13],lines[14],\n",
        "                                  lines[15],lines[16],lines[17])\n",
        "      writer.write(example)"
      ],
      "execution_count": 40,
      "outputs": []
    },
    {
      "cell_type": "code",
      "metadata": {
        "colab": {
          "base_uri": "https://localhost:8080/"
        },
        "id": "zK-ZWQILFuDe",
        "outputId": "85003bef-596a-4f34-949c-19a2f1381367"
      },
      "source": [
        "!du -sh {filename}"
      ],
      "execution_count": 41,
      "outputs": [
        {
          "output_type": "stream",
          "name": "stdout",
          "text": [
            "996K\ttest.tfrecord\n"
          ]
        }
      ]
    },
    {
      "cell_type": "code",
      "metadata": {
        "colab": {
          "base_uri": "https://localhost:8080/"
        },
        "id": "o9hA6etsPWc_",
        "outputId": "bad30867-17a0-47cc-b1c8-e9d664f6c8ab"
      },
      "source": [
        "!du -sh train.csv"
      ],
      "execution_count": 42,
      "outputs": [
        {
          "output_type": "stream",
          "name": "stdout",
          "text": [
            "2.1M\ttrain.csv\n"
          ]
        }
      ]
    },
    {
      "cell_type": "markdown",
      "metadata": {
        "id": "T-wkdQMKXCnw"
      },
      "source": [
        "# Read the data"
      ]
    },
    {
      "cell_type": "code",
      "metadata": {
        "colab": {
          "base_uri": "https://localhost:8080/"
        },
        "id": "sy5Z0W4IXB1h",
        "outputId": "db0742ed-f27a-409d-f94d-8c7f110b0bdc"
      },
      "source": [
        "filenames = [filename]\n",
        "raw_dataset = tf.data.TFRecordDataset(filenames, compression_type=\"GZIP\")\n",
        "raw_dataset"
      ],
      "execution_count": 45,
      "outputs": [
        {
          "output_type": "execute_result",
          "data": {
            "text/plain": [
              "<TFRecordDatasetV2 shapes: (), types: tf.string>"
            ]
          },
          "metadata": {},
          "execution_count": 45
        }
      ]
    },
    {
      "cell_type": "code",
      "metadata": {
        "colab": {
          "base_uri": "https://localhost:8080/"
        },
        "id": "CeFJqp23PbZu",
        "outputId": "acb4cb34-ecd3-44a0-ade0-f2db0dbe25bc"
      },
      "source": [
        "for raw_record in raw_dataset.take(10):\n",
        "  print(repr(raw_record))"
      ],
      "execution_count": 46,
      "outputs": [
        {
          "output_type": "stream",
          "name": "stdout",
          "text": [
            "<tf.Tensor: shape=(), dtype=string, numpy=b'\\n\\x84\\x04\\n\\x19\\n\\x08feature9\\x12\\r\\n\\x0b\\n\\tHenderson\\n \\n\\tfeature13\\x12\\x13\\n\\x11\\n\\x0fFUR-BO-10001798\\n\\x1a\\n\\x08feature2\\x12\\x0e\\n\\x0c\\n\\n08/11/2017\\n\\x15\\n\\tfeature17\\x12\\x08\\x12\\x06\\n\\x04\\xe1\\xfa\\x82C\\n\\x1a\\n\\x08feature3\\x12\\x0e\\n\\x0c\\n\\n11/11/2017\\n\\x11\\n\\x08feature0\\x12\\x05\\x1a\\x03\\n\\x01\\x01\\n\\x1b\\n\\x08feature6\\x12\\x0f\\n\\r\\n\\x0bClaire Gute\\n\\x18\\n\\x08feature7\\x12\\x0c\\n\\n\\n\\x08Consumer\\n\\x16\\n\\tfeature12\\x12\\t\\n\\x07\\n\\x05South\\n\\x1a\\n\\tfeature15\\x12\\r\\n\\x0b\\n\\tBookcases\\n\\x19\\n\\tfeature10\\x12\\x0c\\n\\n\\n\\x08Kentucky\\n\\x16\\n\\tfeature11\\x12\\t\\n\\x07\\n\\x0542420\\n2\\n\\tfeature16\\x12%\\n#\\n!Bush Somerset Collection Bookcase\\n\\x1a\\n\\tfeature14\\x12\\r\\n\\x0b\\n\\tFurniture\\n\\x18\\n\\x08feature5\\x12\\x0c\\n\\n\\n\\x08CG-12520\\n\\x1d\\n\\x08feature8\\x12\\x11\\n\\x0f\\n\\rUnited States\\n\\x1c\\n\\x08feature4\\x12\\x10\\n\\x0e\\n\\x0cSecond Class\\n\\x1e\\n\\x08feature1\\x12\\x12\\n\\x10\\n\\x0eCA-2017-152156'>\n",
            "<tf.Tensor: shape=(), dtype=string, numpy=b'\\n\\x9b\\x04\\n\\x11\\n\\x08feature0\\x12\\x05\\x1a\\x03\\n\\x01\\x02\\n\\x18\\n\\x08feature5\\x12\\x0c\\n\\n\\n\\x08CG-12520\\n\\x16\\n\\tfeature11\\x12\\t\\n\\x07\\n\\x0542420\\n\\x1e\\n\\x08feature1\\x12\\x12\\n\\x10\\n\\x0eCA-2017-152156\\n\\x17\\n\\tfeature15\\x12\\n\\n\\x08\\n\\x06Chairs\\n\\x1c\\n\\x08feature4\\x12\\x10\\n\\x0e\\n\\x0cSecond Class\\n\\x19\\n\\tfeature10\\x12\\x0c\\n\\n\\n\\x08Kentucky\\n\\x1a\\n\\x08feature3\\x12\\x0e\\n\\x0c\\n\\n11/11/2017\\n\\x1d\\n\\x08feature8\\x12\\x11\\n\\x0f\\n\\rUnited States\\n\\x1b\\n\\x08feature6\\x12\\x0f\\n\\r\\n\\x0bClaire Gute\\n\\x16\\n\\tfeature12\\x12\\t\\n\\x07\\n\\x05South\\nL\\n\\tfeature16\\x12?\\n=\\n;Hon Deluxe Fabric Upholstered Stacking Chairs, Rounded Back\\n\\x1a\\n\\x08feature2\\x12\\x0e\\n\\x0c\\n\\n08/11/2017\\n\\x18\\n\\x08feature7\\x12\\x0c\\n\\n\\n\\x08Consumer\\n\\x19\\n\\x08feature9\\x12\\r\\n\\x0b\\n\\tHenderson\\n\\x1a\\n\\tfeature14\\x12\\r\\n\\x0b\\n\\tFurniture\\n\\x15\\n\\tfeature17\\x12\\x08\\x12\\x06\\n\\x04)\\xfc6D\\n \\n\\tfeature13\\x12\\x13\\n\\x11\\n\\x0fFUR-CH-10000454'>\n",
            "<tf.Tensor: shape=(), dtype=string, numpy=b'\\n\\xa7\\x04\\n\\x19\\n\\x08feature7\\x12\\r\\n\\x0b\\n\\tCorporate\\nJ\\n\\tfeature16\\x12=\\n;\\n9Self-Adhesive Address Labels for Typewriters by Universal\\n\\x18\\n\\x08feature5\\x12\\x0c\\n\\n\\n\\x08DV-13045\\n\\x1a\\n\\x08feature3\\x12\\x0e\\n\\x0c\\n\\n16/06/2017\\n\\x1e\\n\\x08feature1\\x12\\x12\\n\\x10\\n\\x0eCA-2017-138688\\n\\x1b\\n\\tfeature10\\x12\\x0e\\n\\x0c\\n\\nCalifornia\\n \\n\\tfeature14\\x12\\x13\\n\\x11\\n\\x0fOffice Supplies\\n\\x15\\n\\tfeature12\\x12\\x08\\n\\x06\\n\\x04West\\n\\x15\\n\\tfeature17\\x12\\x08\\x12\\x06\\n\\x04\\x85\\xebiA\\n\\x1c\\n\\x08feature4\\x12\\x10\\n\\x0e\\n\\x0cSecond Class\\n\\x11\\n\\x08feature0\\x12\\x05\\x1a\\x03\\n\\x01\\x03\\n\\x1d\\n\\x08feature8\\x12\\x11\\n\\x0f\\n\\rUnited States\\n\\x1b\\n\\x08feature9\\x12\\x0f\\n\\r\\n\\x0bLos Angeles\\n \\n\\tfeature13\\x12\\x13\\n\\x11\\n\\x0fOFF-LA-10000240\\n\\x1a\\n\\x08feature2\\x12\\x0e\\n\\x0c\\n\\n12/06/2017\\n\\x16\\n\\tfeature11\\x12\\t\\n\\x07\\n\\x0590036\\n\\x17\\n\\tfeature15\\x12\\n\\n\\x08\\n\\x06Labels\\n\\x1f\\n\\x08feature6\\x12\\x13\\n\\x11\\n\\x0fDarrin Van Huff'>\n",
            "<tf.Tensor: shape=(), dtype=string, numpy=b\"\\n\\x97\\x04\\n\\x15\\n\\tfeature17\\x12\\x08\\x12\\x06\\n\\x04\\xf6doD\\n\\x1e\\n\\x08feature6\\x12\\x12\\n\\x10\\n\\x0eSean O'Donnell\\n \\n\\tfeature13\\x12\\x13\\n\\x11\\n\\x0fFUR-TA-10000577\\n\\x1a\\n\\x08feature2\\x12\\x0e\\n\\x0c\\n\\n11/10/2016\\n\\x18\\n\\x08feature5\\x12\\x0c\\n\\n\\n\\x08SO-20335\\n\\x1e\\n\\x08feature1\\x12\\x12\\n\\x10\\n\\x0eUS-2016-108966\\n\\x17\\n\\tfeature15\\x12\\n\\n\\x08\\n\\x06Tables\\n\\x18\\n\\x08feature7\\x12\\x0c\\n\\n\\n\\x08Consumer\\n>\\n\\tfeature16\\x121\\n/\\n-Bretford CR4500 Series Slim Rectangular Table\\n\\x18\\n\\tfeature10\\x12\\x0b\\n\\t\\n\\x07Florida\\n\\x1e\\n\\x08feature4\\x12\\x12\\n\\x10\\n\\x0eStandard Class\\n\\x16\\n\\tfeature12\\x12\\t\\n\\x07\\n\\x05South\\n\\x1a\\n\\tfeature14\\x12\\r\\n\\x0b\\n\\tFurniture\\n\\x1d\\n\\x08feature8\\x12\\x11\\n\\x0f\\n\\rUnited States\\n\\x11\\n\\x08feature0\\x12\\x05\\x1a\\x03\\n\\x01\\x04\\n\\x16\\n\\tfeature11\\x12\\t\\n\\x07\\n\\x0533311\\n\\x1f\\n\\x08feature9\\x12\\x13\\n\\x11\\n\\x0fFort Lauderdale\\n\\x1a\\n\\x08feature3\\x12\\x0e\\n\\x0c\\n\\n18/10/2016\">\n",
            "<tf.Tensor: shape=(), dtype=string, numpy=b'\\n\\x8f\\x04\\n \\n\\tfeature13\\x12\\x13\\n\\x11\\n\\x0fOFF-ST-10000760\\n\\x1f\\n\\x08feature9\\x12\\x13\\n\\x11\\n\\x0fFort Lauderdale\\n\\x1d\\n\\x08feature8\\x12\\x11\\n\\x0f\\n\\rUnited States\\n\\x11\\n\\x08feature0\\x12\\x05\\x1a\\x03\\n\\x01\\x05\\n\\x16\\n\\tfeature11\\x12\\t\\n\\x07\\n\\x0533311\\n\\x1a\\n\\x08feature3\\x12\\x0e\\n\\x0c\\n\\n18/10/2016\\n\\x18\\n\\tfeature10\\x12\\x0b\\n\\t\\n\\x07Florida\\n\\x1e\\n\\x08feature6\\x12\\x12\\n\\x10\\n\\x0eSean O\\'Donnell\\n\\x1a\\n\\x08feature2\\x12\\x0e\\n\\x0c\\n\\n11/10/2016\\n/\\n\\tfeature16\\x12\"\\n \\n\\x1eEldon Fold \\'N Roll Cart System\\n\\x15\\n\\tfeature17\\x12\\x08\\x12\\x06\\n\\x04\\xaa\\xf1\\xb2A\\n\\x1e\\n\\x08feature4\\x12\\x12\\n\\x10\\n\\x0eStandard Class\\n\\x18\\n\\tfeature15\\x12\\x0b\\n\\t\\n\\x07Storage\\n\\x18\\n\\x08feature5\\x12\\x0c\\n\\n\\n\\x08SO-20335\\n\\x1e\\n\\x08feature1\\x12\\x12\\n\\x10\\n\\x0eUS-2016-108966\\n\\x18\\n\\x08feature7\\x12\\x0c\\n\\n\\n\\x08Consumer\\n \\n\\tfeature14\\x12\\x13\\n\\x11\\n\\x0fOffice Supplies\\n\\x16\\n\\tfeature12\\x12\\t\\n\\x07\\n\\x05South'>\n",
            "<tf.Tensor: shape=(), dtype=string, numpy=b'\\n\\xae\\x04\\n\\x18\\n\\x08feature7\\x12\\x0c\\n\\n\\n\\x08Consumer\\n\\x1a\\n\\tfeature14\\x12\\r\\n\\x0b\\n\\tFurniture\\n\\x1e\\n\\x08feature1\\x12\\x12\\n\\x10\\n\\x0eCA-2015-115812\\n\\x1a\\n\\x08feature3\\x12\\x0e\\n\\x0c\\n\\n14/06/2015\\n\\x1d\\n\\x08feature8\\x12\\x11\\n\\x0f\\n\\rUnited States\\nQ\\n\\tfeature16\\x12D\\nB\\n@Eldon Expressions Wood and Plastic Desk Accessories, Cherry Wood\\n\\x16\\n\\tfeature11\\x12\\t\\n\\x07\\n\\x0590032\\n\\x1b\\n\\tfeature10\\x12\\x0e\\n\\x0c\\n\\nCalifornia\\n\\x1b\\n\\x08feature9\\x12\\x0f\\n\\r\\n\\x0bLos Angeles\\n\\x11\\n\\x08feature0\\x12\\x05\\x1a\\x03\\n\\x01\\x06\\n\\x1e\\n\\x08feature4\\x12\\x12\\n\\x10\\n\\x0eStandard Class\\n\\x15\\n\\tfeature17\\x12\\x08\\x12\\x06\\n\\x04\\xa4pCB\\n\\x1a\\n\\x08feature2\\x12\\x0e\\n\\x0c\\n\\n09/06/2015\\n\\x18\\n\\x08feature5\\x12\\x0c\\n\\n\\n\\x08BH-11710\\n\\x1c\\n\\tfeature15\\x12\\x0f\\n\\r\\n\\x0bFurnishings\\n\\x1f\\n\\x08feature6\\x12\\x13\\n\\x11\\n\\x0fBrosina Hoffman\\n\\x15\\n\\tfeature12\\x12\\x08\\n\\x06\\n\\x04West\\n \\n\\tfeature13\\x12\\x13\\n\\x11\\n\\x0fFUR-FU-10001487'>\n",
            "<tf.Tensor: shape=(), dtype=string, numpy=b'\\n\\xf6\\x03\\n\\x15\\n\\tfeature17\\x12\\x08\\x12\\x06\\n\\x04\\xc3\\xf5\\xe8@\\n\\x1a\\n\\x08feature3\\x12\\x0e\\n\\x0c\\n\\n14/06/2015\\n\\x1a\\n\\x08feature2\\x12\\x0e\\n\\x0c\\n\\n09/06/2015\\n \\n\\tfeature13\\x12\\x13\\n\\x11\\n\\x0fOFF-AR-10002833\\n\\x16\\n\\tfeature11\\x12\\t\\n\\x07\\n\\x0590032\\n\\x1b\\n\\x08feature9\\x12\\x0f\\n\\r\\n\\x0bLos Angeles\\n\\x14\\n\\tfeature15\\x12\\x07\\n\\x05\\n\\x03Art\\n \\n\\tfeature14\\x12\\x13\\n\\x11\\n\\x0fOffice Supplies\\n\\x1f\\n\\x08feature6\\x12\\x13\\n\\x11\\n\\x0fBrosina Hoffman\\n\\x1b\\n\\tfeature16\\x12\\x0e\\n\\x0c\\n\\nNewell 322\\n\\x15\\n\\tfeature12\\x12\\x08\\n\\x06\\n\\x04West\\n\\x1d\\n\\x08feature8\\x12\\x11\\n\\x0f\\n\\rUnited States\\n\\x1b\\n\\tfeature10\\x12\\x0e\\n\\x0c\\n\\nCalifornia\\n\\x11\\n\\x08feature0\\x12\\x05\\x1a\\x03\\n\\x01\\x07\\n\\x1e\\n\\x08feature4\\x12\\x12\\n\\x10\\n\\x0eStandard Class\\n\\x18\\n\\x08feature5\\x12\\x0c\\n\\n\\n\\x08BH-11710\\n\\x18\\n\\x08feature7\\x12\\x0c\\n\\n\\n\\x08Consumer\\n\\x1e\\n\\x08feature1\\x12\\x12\\n\\x10\\n\\x0eCA-2015-115812'>\n",
            "<tf.Tensor: shape=(), dtype=string, numpy=b'\\n\\x88\\x04\\n\\x1e\\n\\x08feature1\\x12\\x12\\n\\x10\\n\\x0eCA-2015-115812\\n\\x1f\\n\\x08feature6\\x12\\x13\\n\\x11\\n\\x0fBrosina Hoffman\\n\\x1d\\n\\x08feature8\\x12\\x11\\n\\x0f\\n\\rUnited States\\n\\x15\\n\\tfeature17\\x12\\x08\\x12\\x06\\n\\x04\\xba\\xc9bD\\n\\x17\\n\\tfeature15\\x12\\n\\n\\x08\\n\\x06Phones\\n \\n\\tfeature13\\x12\\x13\\n\\x11\\n\\x0fTEC-PH-10002275\\n\\x1b\\n\\tfeature10\\x12\\x0e\\n\\x0c\\n\\nCalifornia\\n\\x1a\\n\\x08feature3\\x12\\x0e\\n\\x0c\\n\\n14/06/2015\\n/\\n\\tfeature16\\x12\"\\n \\n\\x1eMitel 5320 IP Phone VoIP phone\\n\\x15\\n\\tfeature12\\x12\\x08\\n\\x06\\n\\x04West\\n\\x11\\n\\x08feature0\\x12\\x05\\x1a\\x03\\n\\x01\\x08\\n\\x16\\n\\tfeature11\\x12\\t\\n\\x07\\n\\x0590032\\n\\x1e\\n\\x08feature4\\x12\\x12\\n\\x10\\n\\x0eStandard Class\\n\\x18\\n\\x08feature5\\x12\\x0c\\n\\n\\n\\x08BH-11710\\n\\x1a\\n\\x08feature2\\x12\\x0e\\n\\x0c\\n\\n09/06/2015\\n\\x1b\\n\\x08feature9\\x12\\x0f\\n\\r\\n\\x0bLos Angeles\\n\\x18\\n\\x08feature7\\x12\\x0c\\n\\n\\n\\x08Consumer\\n\\x1b\\n\\tfeature14\\x12\\x0e\\n\\x0c\\n\\nTechnology'>\n",
            "<tf.Tensor: shape=(), dtype=string, numpy=b'\\n\\xa4\\x04\\nE\\n\\tfeature16\\x128\\n6\\n4DXL Angle-View Binders with Locking Rings by Samsill\\n\\x1e\\n\\x08feature1\\x12\\x12\\n\\x10\\n\\x0eCA-2015-115812\\n\\x18\\n\\tfeature15\\x12\\x0b\\n\\t\\n\\x07Binders\\n\\x1e\\n\\x08feature4\\x12\\x12\\n\\x10\\n\\x0eStandard Class\\n\\x18\\n\\x08feature7\\x12\\x0c\\n\\n\\n\\x08Consumer\\n\\x18\\n\\x08feature5\\x12\\x0c\\n\\n\\n\\x08BH-11710\\n \\n\\tfeature14\\x12\\x13\\n\\x11\\n\\x0fOffice Supplies\\n\\x15\\n\\tfeature17\\x12\\x08\\x12\\x06\\n\\x041\\x08\\x94A\\n\\x1a\\n\\x08feature2\\x12\\x0e\\n\\x0c\\n\\n09/06/2015\\n\\x11\\n\\x08feature0\\x12\\x05\\x1a\\x03\\n\\x01\\t\\n\\x15\\n\\tfeature12\\x12\\x08\\n\\x06\\n\\x04West\\n\\x16\\n\\tfeature11\\x12\\t\\n\\x07\\n\\x0590032\\n \\n\\tfeature13\\x12\\x13\\n\\x11\\n\\x0fOFF-BI-10003910\\n\\x1b\\n\\x08feature9\\x12\\x0f\\n\\r\\n\\x0bLos Angeles\\n\\x1d\\n\\x08feature8\\x12\\x11\\n\\x0f\\n\\rUnited States\\n\\x1b\\n\\tfeature10\\x12\\x0e\\n\\x0c\\n\\nCalifornia\\n\\x1a\\n\\x08feature3\\x12\\x0e\\n\\x0c\\n\\n14/06/2015\\n\\x1f\\n\\x08feature6\\x12\\x13\\n\\x11\\n\\x0fBrosina Hoffman'>\n",
            "<tf.Tensor: shape=(), dtype=string, numpy=b'\\n\\x93\\x04\\n\\x1e\\n\\x08feature4\\x12\\x12\\n\\x10\\n\\x0eStandard Class\\n\\x11\\n\\x08feature0\\x12\\x05\\x1a\\x03\\n\\x01\\n\\n\\x1e\\n\\x08feature1\\x12\\x12\\n\\x10\\n\\x0eCA-2015-115812\\n\\x15\\n\\tfeature17\\x12\\x08\\x12\\x06\\n\\x04\\xcd\\xcc\\xe5B\\n\\x1b\\n\\tfeature15\\x12\\x0e\\n\\x0c\\n\\nAppliances\\n \\n\\tfeature14\\x12\\x13\\n\\x11\\n\\x0fOffice Supplies\\n1\\n\\tfeature16\\x12$\\n\"\\n Belkin F5C206VTEL 6 Outlet Surge\\n\\x1f\\n\\x08feature6\\x12\\x13\\n\\x11\\n\\x0fBrosina Hoffman\\n\\x16\\n\\tfeature11\\x12\\t\\n\\x07\\n\\x0590032\\n\\x18\\n\\x08feature5\\x12\\x0c\\n\\n\\n\\x08BH-11710\\n\\x1d\\n\\x08feature8\\x12\\x11\\n\\x0f\\n\\rUnited States\\n \\n\\tfeature13\\x12\\x13\\n\\x11\\n\\x0fOFF-AP-10002892\\n\\x1b\\n\\tfeature10\\x12\\x0e\\n\\x0c\\n\\nCalifornia\\n\\x1a\\n\\x08feature2\\x12\\x0e\\n\\x0c\\n\\n09/06/2015\\n\\x1b\\n\\x08feature9\\x12\\x0f\\n\\r\\n\\x0bLos Angeles\\n\\x18\\n\\x08feature7\\x12\\x0c\\n\\n\\n\\x08Consumer\\n\\x15\\n\\tfeature12\\x12\\x08\\n\\x06\\n\\x04West\\n\\x1a\\n\\x08feature3\\x12\\x0e\\n\\x0c\\n\\n14/06/2015'>\n"
          ]
        }
      ]
    },
    {
      "cell_type": "code",
      "metadata": {
        "id": "GOmkD5yoXskt"
      },
      "source": [
        "# Create a description of the features.\n",
        "feature_description = {\n",
        "    'feature0': tf.io.FixedLenFeature([], tf.int64, default_value=0),\n",
        "    'feature1': tf.io.FixedLenFeature([], tf.string, default_value=''),\n",
        "    'feature2': tf.io.FixedLenFeature([], tf.string, default_value=''),\n",
        "    'feature3': tf.io.FixedLenFeature([], tf.string, default_value=''),\n",
        "    'feature4': tf.io.FixedLenFeature([], tf.string, default_value=''),\n",
        "    'feature5': tf.io.FixedLenFeature([], tf.string, default_value=''),\n",
        "    'feature6': tf.io.FixedLenFeature([], tf.string, default_value=''),\n",
        "    'feature7': tf.io.FixedLenFeature([], tf.string, default_value=''),\n",
        "    'feature8': tf.io.FixedLenFeature([], tf.string, default_value=''),\n",
        "    'feature9': tf.io.FixedLenFeature([], tf.string, default_value=''),\n",
        "    'feature10': tf.io.FixedLenFeature([], tf.string, default_value=''),\n",
        "    'feature11': tf.io.FixedLenFeature([], tf.string, default_value=''),\n",
        "    'feature12': tf.io.FixedLenFeature([], tf.string, default_value=''),\n",
        "    'feature13': tf.io.FixedLenFeature([], tf.string, default_value=''),\n",
        "    'feature14': tf.io.FixedLenFeature([], tf.string, default_value=''),\n",
        "    'feature15': tf.io.FixedLenFeature([], tf.string, default_value=''),\n",
        "    'feature16': tf.io.FixedLenFeature([], tf.string, default_value=''),\n",
        "    'feature17': tf.io.FixedLenFeature([], tf.float32, default_value=0.0),\n",
        "}\n",
        "\n",
        "def _parse_function(example_proto):\n",
        "  # Parse the input `tf.train.Example` proto using the dictionary above.\n",
        "  return tf.io.parse_single_example(example_proto, feature_description)"
      ],
      "execution_count": 48,
      "outputs": []
    },
    {
      "cell_type": "code",
      "metadata": {
        "colab": {
          "base_uri": "https://localhost:8080/"
        },
        "id": "YjH9iGHKY2tP",
        "outputId": "f4b4b1eb-8a30-4a98-d83a-b2bdf83467cb"
      },
      "source": [
        "parsed_dataset = raw_dataset.map(_parse_function)\n",
        "parsed_dataset"
      ],
      "execution_count": 49,
      "outputs": [
        {
          "output_type": "execute_result",
          "data": {
            "text/plain": [
              "<MapDataset shapes: {feature0: (), feature1: (), feature10: (), feature11: (), feature12: (), feature13: (), feature14: (), feature15: (), feature16: (), feature17: (), feature2: (), feature3: (), feature4: (), feature5: (), feature6: (), feature7: (), feature8: (), feature9: ()}, types: {feature0: tf.int64, feature1: tf.string, feature10: tf.string, feature11: tf.string, feature12: tf.string, feature13: tf.string, feature14: tf.string, feature15: tf.string, feature16: tf.string, feature17: tf.float32, feature2: tf.string, feature3: tf.string, feature4: tf.string, feature5: tf.string, feature6: tf.string, feature7: tf.string, feature8: tf.string, feature9: tf.string}>"
            ]
          },
          "metadata": {},
          "execution_count": 49
        }
      ]
    },
    {
      "cell_type": "code",
      "metadata": {
        "colab": {
          "base_uri": "https://localhost:8080/"
        },
        "id": "scytuGr_ZJQf",
        "outputId": "4807dd2b-021c-4ca8-ee5c-3899e3de0887"
      },
      "source": [
        "for parsed_record in parsed_dataset.take(10):\n",
        "  print(repr(parsed_record))"
      ],
      "execution_count": 50,
      "outputs": [
        {
          "output_type": "stream",
          "name": "stdout",
          "text": [
            "{'feature0': <tf.Tensor: shape=(), dtype=int64, numpy=1>, 'feature1': <tf.Tensor: shape=(), dtype=string, numpy=b'CA-2017-152156'>, 'feature10': <tf.Tensor: shape=(), dtype=string, numpy=b'Kentucky'>, 'feature11': <tf.Tensor: shape=(), dtype=string, numpy=b'42420'>, 'feature12': <tf.Tensor: shape=(), dtype=string, numpy=b'South'>, 'feature13': <tf.Tensor: shape=(), dtype=string, numpy=b'FUR-BO-10001798'>, 'feature14': <tf.Tensor: shape=(), dtype=string, numpy=b'Furniture'>, 'feature15': <tf.Tensor: shape=(), dtype=string, numpy=b'Bookcases'>, 'feature16': <tf.Tensor: shape=(), dtype=string, numpy=b'Bush Somerset Collection Bookcase'>, 'feature17': <tf.Tensor: shape=(), dtype=float32, numpy=261.96>, 'feature2': <tf.Tensor: shape=(), dtype=string, numpy=b'08/11/2017'>, 'feature3': <tf.Tensor: shape=(), dtype=string, numpy=b'11/11/2017'>, 'feature4': <tf.Tensor: shape=(), dtype=string, numpy=b'Second Class'>, 'feature5': <tf.Tensor: shape=(), dtype=string, numpy=b'CG-12520'>, 'feature6': <tf.Tensor: shape=(), dtype=string, numpy=b'Claire Gute'>, 'feature7': <tf.Tensor: shape=(), dtype=string, numpy=b'Consumer'>, 'feature8': <tf.Tensor: shape=(), dtype=string, numpy=b'United States'>, 'feature9': <tf.Tensor: shape=(), dtype=string, numpy=b'Henderson'>}\n",
            "{'feature0': <tf.Tensor: shape=(), dtype=int64, numpy=2>, 'feature1': <tf.Tensor: shape=(), dtype=string, numpy=b'CA-2017-152156'>, 'feature10': <tf.Tensor: shape=(), dtype=string, numpy=b'Kentucky'>, 'feature11': <tf.Tensor: shape=(), dtype=string, numpy=b'42420'>, 'feature12': <tf.Tensor: shape=(), dtype=string, numpy=b'South'>, 'feature13': <tf.Tensor: shape=(), dtype=string, numpy=b'FUR-CH-10000454'>, 'feature14': <tf.Tensor: shape=(), dtype=string, numpy=b'Furniture'>, 'feature15': <tf.Tensor: shape=(), dtype=string, numpy=b'Chairs'>, 'feature16': <tf.Tensor: shape=(), dtype=string, numpy=b'Hon Deluxe Fabric Upholstered Stacking Chairs, Rounded Back'>, 'feature17': <tf.Tensor: shape=(), dtype=float32, numpy=731.94>, 'feature2': <tf.Tensor: shape=(), dtype=string, numpy=b'08/11/2017'>, 'feature3': <tf.Tensor: shape=(), dtype=string, numpy=b'11/11/2017'>, 'feature4': <tf.Tensor: shape=(), dtype=string, numpy=b'Second Class'>, 'feature5': <tf.Tensor: shape=(), dtype=string, numpy=b'CG-12520'>, 'feature6': <tf.Tensor: shape=(), dtype=string, numpy=b'Claire Gute'>, 'feature7': <tf.Tensor: shape=(), dtype=string, numpy=b'Consumer'>, 'feature8': <tf.Tensor: shape=(), dtype=string, numpy=b'United States'>, 'feature9': <tf.Tensor: shape=(), dtype=string, numpy=b'Henderson'>}\n",
            "{'feature0': <tf.Tensor: shape=(), dtype=int64, numpy=3>, 'feature1': <tf.Tensor: shape=(), dtype=string, numpy=b'CA-2017-138688'>, 'feature10': <tf.Tensor: shape=(), dtype=string, numpy=b'California'>, 'feature11': <tf.Tensor: shape=(), dtype=string, numpy=b'90036'>, 'feature12': <tf.Tensor: shape=(), dtype=string, numpy=b'West'>, 'feature13': <tf.Tensor: shape=(), dtype=string, numpy=b'OFF-LA-10000240'>, 'feature14': <tf.Tensor: shape=(), dtype=string, numpy=b'Office Supplies'>, 'feature15': <tf.Tensor: shape=(), dtype=string, numpy=b'Labels'>, 'feature16': <tf.Tensor: shape=(), dtype=string, numpy=b'Self-Adhesive Address Labels for Typewriters by Universal'>, 'feature17': <tf.Tensor: shape=(), dtype=float32, numpy=14.62>, 'feature2': <tf.Tensor: shape=(), dtype=string, numpy=b'12/06/2017'>, 'feature3': <tf.Tensor: shape=(), dtype=string, numpy=b'16/06/2017'>, 'feature4': <tf.Tensor: shape=(), dtype=string, numpy=b'Second Class'>, 'feature5': <tf.Tensor: shape=(), dtype=string, numpy=b'DV-13045'>, 'feature6': <tf.Tensor: shape=(), dtype=string, numpy=b'Darrin Van Huff'>, 'feature7': <tf.Tensor: shape=(), dtype=string, numpy=b'Corporate'>, 'feature8': <tf.Tensor: shape=(), dtype=string, numpy=b'United States'>, 'feature9': <tf.Tensor: shape=(), dtype=string, numpy=b'Los Angeles'>}\n",
            "{'feature0': <tf.Tensor: shape=(), dtype=int64, numpy=4>, 'feature1': <tf.Tensor: shape=(), dtype=string, numpy=b'US-2016-108966'>, 'feature10': <tf.Tensor: shape=(), dtype=string, numpy=b'Florida'>, 'feature11': <tf.Tensor: shape=(), dtype=string, numpy=b'33311'>, 'feature12': <tf.Tensor: shape=(), dtype=string, numpy=b'South'>, 'feature13': <tf.Tensor: shape=(), dtype=string, numpy=b'FUR-TA-10000577'>, 'feature14': <tf.Tensor: shape=(), dtype=string, numpy=b'Furniture'>, 'feature15': <tf.Tensor: shape=(), dtype=string, numpy=b'Tables'>, 'feature16': <tf.Tensor: shape=(), dtype=string, numpy=b'Bretford CR4500 Series Slim Rectangular Table'>, 'feature17': <tf.Tensor: shape=(), dtype=float32, numpy=957.5775>, 'feature2': <tf.Tensor: shape=(), dtype=string, numpy=b'11/10/2016'>, 'feature3': <tf.Tensor: shape=(), dtype=string, numpy=b'18/10/2016'>, 'feature4': <tf.Tensor: shape=(), dtype=string, numpy=b'Standard Class'>, 'feature5': <tf.Tensor: shape=(), dtype=string, numpy=b'SO-20335'>, 'feature6': <tf.Tensor: shape=(), dtype=string, numpy=b\"Sean O'Donnell\">, 'feature7': <tf.Tensor: shape=(), dtype=string, numpy=b'Consumer'>, 'feature8': <tf.Tensor: shape=(), dtype=string, numpy=b'United States'>, 'feature9': <tf.Tensor: shape=(), dtype=string, numpy=b'Fort Lauderdale'>}\n",
            "{'feature0': <tf.Tensor: shape=(), dtype=int64, numpy=5>, 'feature1': <tf.Tensor: shape=(), dtype=string, numpy=b'US-2016-108966'>, 'feature10': <tf.Tensor: shape=(), dtype=string, numpy=b'Florida'>, 'feature11': <tf.Tensor: shape=(), dtype=string, numpy=b'33311'>, 'feature12': <tf.Tensor: shape=(), dtype=string, numpy=b'South'>, 'feature13': <tf.Tensor: shape=(), dtype=string, numpy=b'OFF-ST-10000760'>, 'feature14': <tf.Tensor: shape=(), dtype=string, numpy=b'Office Supplies'>, 'feature15': <tf.Tensor: shape=(), dtype=string, numpy=b'Storage'>, 'feature16': <tf.Tensor: shape=(), dtype=string, numpy=b\"Eldon Fold 'N Roll Cart System\">, 'feature17': <tf.Tensor: shape=(), dtype=float32, numpy=22.368>, 'feature2': <tf.Tensor: shape=(), dtype=string, numpy=b'11/10/2016'>, 'feature3': <tf.Tensor: shape=(), dtype=string, numpy=b'18/10/2016'>, 'feature4': <tf.Tensor: shape=(), dtype=string, numpy=b'Standard Class'>, 'feature5': <tf.Tensor: shape=(), dtype=string, numpy=b'SO-20335'>, 'feature6': <tf.Tensor: shape=(), dtype=string, numpy=b\"Sean O'Donnell\">, 'feature7': <tf.Tensor: shape=(), dtype=string, numpy=b'Consumer'>, 'feature8': <tf.Tensor: shape=(), dtype=string, numpy=b'United States'>, 'feature9': <tf.Tensor: shape=(), dtype=string, numpy=b'Fort Lauderdale'>}\n",
            "{'feature0': <tf.Tensor: shape=(), dtype=int64, numpy=6>, 'feature1': <tf.Tensor: shape=(), dtype=string, numpy=b'CA-2015-115812'>, 'feature10': <tf.Tensor: shape=(), dtype=string, numpy=b'California'>, 'feature11': <tf.Tensor: shape=(), dtype=string, numpy=b'90032'>, 'feature12': <tf.Tensor: shape=(), dtype=string, numpy=b'West'>, 'feature13': <tf.Tensor: shape=(), dtype=string, numpy=b'FUR-FU-10001487'>, 'feature14': <tf.Tensor: shape=(), dtype=string, numpy=b'Furniture'>, 'feature15': <tf.Tensor: shape=(), dtype=string, numpy=b'Furnishings'>, 'feature16': <tf.Tensor: shape=(), dtype=string, numpy=b'Eldon Expressions Wood and Plastic Desk Accessories, Cherry Wood'>, 'feature17': <tf.Tensor: shape=(), dtype=float32, numpy=48.86>, 'feature2': <tf.Tensor: shape=(), dtype=string, numpy=b'09/06/2015'>, 'feature3': <tf.Tensor: shape=(), dtype=string, numpy=b'14/06/2015'>, 'feature4': <tf.Tensor: shape=(), dtype=string, numpy=b'Standard Class'>, 'feature5': <tf.Tensor: shape=(), dtype=string, numpy=b'BH-11710'>, 'feature6': <tf.Tensor: shape=(), dtype=string, numpy=b'Brosina Hoffman'>, 'feature7': <tf.Tensor: shape=(), dtype=string, numpy=b'Consumer'>, 'feature8': <tf.Tensor: shape=(), dtype=string, numpy=b'United States'>, 'feature9': <tf.Tensor: shape=(), dtype=string, numpy=b'Los Angeles'>}\n",
            "{'feature0': <tf.Tensor: shape=(), dtype=int64, numpy=7>, 'feature1': <tf.Tensor: shape=(), dtype=string, numpy=b'CA-2015-115812'>, 'feature10': <tf.Tensor: shape=(), dtype=string, numpy=b'California'>, 'feature11': <tf.Tensor: shape=(), dtype=string, numpy=b'90032'>, 'feature12': <tf.Tensor: shape=(), dtype=string, numpy=b'West'>, 'feature13': <tf.Tensor: shape=(), dtype=string, numpy=b'OFF-AR-10002833'>, 'feature14': <tf.Tensor: shape=(), dtype=string, numpy=b'Office Supplies'>, 'feature15': <tf.Tensor: shape=(), dtype=string, numpy=b'Art'>, 'feature16': <tf.Tensor: shape=(), dtype=string, numpy=b'Newell 322'>, 'feature17': <tf.Tensor: shape=(), dtype=float32, numpy=7.28>, 'feature2': <tf.Tensor: shape=(), dtype=string, numpy=b'09/06/2015'>, 'feature3': <tf.Tensor: shape=(), dtype=string, numpy=b'14/06/2015'>, 'feature4': <tf.Tensor: shape=(), dtype=string, numpy=b'Standard Class'>, 'feature5': <tf.Tensor: shape=(), dtype=string, numpy=b'BH-11710'>, 'feature6': <tf.Tensor: shape=(), dtype=string, numpy=b'Brosina Hoffman'>, 'feature7': <tf.Tensor: shape=(), dtype=string, numpy=b'Consumer'>, 'feature8': <tf.Tensor: shape=(), dtype=string, numpy=b'United States'>, 'feature9': <tf.Tensor: shape=(), dtype=string, numpy=b'Los Angeles'>}\n",
            "{'feature0': <tf.Tensor: shape=(), dtype=int64, numpy=8>, 'feature1': <tf.Tensor: shape=(), dtype=string, numpy=b'CA-2015-115812'>, 'feature10': <tf.Tensor: shape=(), dtype=string, numpy=b'California'>, 'feature11': <tf.Tensor: shape=(), dtype=string, numpy=b'90032'>, 'feature12': <tf.Tensor: shape=(), dtype=string, numpy=b'West'>, 'feature13': <tf.Tensor: shape=(), dtype=string, numpy=b'TEC-PH-10002275'>, 'feature14': <tf.Tensor: shape=(), dtype=string, numpy=b'Technology'>, 'feature15': <tf.Tensor: shape=(), dtype=string, numpy=b'Phones'>, 'feature16': <tf.Tensor: shape=(), dtype=string, numpy=b'Mitel 5320 IP Phone VoIP phone'>, 'feature17': <tf.Tensor: shape=(), dtype=float32, numpy=907.152>, 'feature2': <tf.Tensor: shape=(), dtype=string, numpy=b'09/06/2015'>, 'feature3': <tf.Tensor: shape=(), dtype=string, numpy=b'14/06/2015'>, 'feature4': <tf.Tensor: shape=(), dtype=string, numpy=b'Standard Class'>, 'feature5': <tf.Tensor: shape=(), dtype=string, numpy=b'BH-11710'>, 'feature6': <tf.Tensor: shape=(), dtype=string, numpy=b'Brosina Hoffman'>, 'feature7': <tf.Tensor: shape=(), dtype=string, numpy=b'Consumer'>, 'feature8': <tf.Tensor: shape=(), dtype=string, numpy=b'United States'>, 'feature9': <tf.Tensor: shape=(), dtype=string, numpy=b'Los Angeles'>}\n",
            "{'feature0': <tf.Tensor: shape=(), dtype=int64, numpy=9>, 'feature1': <tf.Tensor: shape=(), dtype=string, numpy=b'CA-2015-115812'>, 'feature10': <tf.Tensor: shape=(), dtype=string, numpy=b'California'>, 'feature11': <tf.Tensor: shape=(), dtype=string, numpy=b'90032'>, 'feature12': <tf.Tensor: shape=(), dtype=string, numpy=b'West'>, 'feature13': <tf.Tensor: shape=(), dtype=string, numpy=b'OFF-BI-10003910'>, 'feature14': <tf.Tensor: shape=(), dtype=string, numpy=b'Office Supplies'>, 'feature15': <tf.Tensor: shape=(), dtype=string, numpy=b'Binders'>, 'feature16': <tf.Tensor: shape=(), dtype=string, numpy=b'DXL Angle-View Binders with Locking Rings by Samsill'>, 'feature17': <tf.Tensor: shape=(), dtype=float32, numpy=18.504>, 'feature2': <tf.Tensor: shape=(), dtype=string, numpy=b'09/06/2015'>, 'feature3': <tf.Tensor: shape=(), dtype=string, numpy=b'14/06/2015'>, 'feature4': <tf.Tensor: shape=(), dtype=string, numpy=b'Standard Class'>, 'feature5': <tf.Tensor: shape=(), dtype=string, numpy=b'BH-11710'>, 'feature6': <tf.Tensor: shape=(), dtype=string, numpy=b'Brosina Hoffman'>, 'feature7': <tf.Tensor: shape=(), dtype=string, numpy=b'Consumer'>, 'feature8': <tf.Tensor: shape=(), dtype=string, numpy=b'United States'>, 'feature9': <tf.Tensor: shape=(), dtype=string, numpy=b'Los Angeles'>}\n",
            "{'feature0': <tf.Tensor: shape=(), dtype=int64, numpy=10>, 'feature1': <tf.Tensor: shape=(), dtype=string, numpy=b'CA-2015-115812'>, 'feature10': <tf.Tensor: shape=(), dtype=string, numpy=b'California'>, 'feature11': <tf.Tensor: shape=(), dtype=string, numpy=b'90032'>, 'feature12': <tf.Tensor: shape=(), dtype=string, numpy=b'West'>, 'feature13': <tf.Tensor: shape=(), dtype=string, numpy=b'OFF-AP-10002892'>, 'feature14': <tf.Tensor: shape=(), dtype=string, numpy=b'Office Supplies'>, 'feature15': <tf.Tensor: shape=(), dtype=string, numpy=b'Appliances'>, 'feature16': <tf.Tensor: shape=(), dtype=string, numpy=b'Belkin F5C206VTEL 6 Outlet Surge'>, 'feature17': <tf.Tensor: shape=(), dtype=float32, numpy=114.9>, 'feature2': <tf.Tensor: shape=(), dtype=string, numpy=b'09/06/2015'>, 'feature3': <tf.Tensor: shape=(), dtype=string, numpy=b'14/06/2015'>, 'feature4': <tf.Tensor: shape=(), dtype=string, numpy=b'Standard Class'>, 'feature5': <tf.Tensor: shape=(), dtype=string, numpy=b'BH-11710'>, 'feature6': <tf.Tensor: shape=(), dtype=string, numpy=b'Brosina Hoffman'>, 'feature7': <tf.Tensor: shape=(), dtype=string, numpy=b'Consumer'>, 'feature8': <tf.Tensor: shape=(), dtype=string, numpy=b'United States'>, 'feature9': <tf.Tensor: shape=(), dtype=string, numpy=b'Los Angeles'>}\n"
          ]
        }
      ]
    },
    {
      "cell_type": "markdown",
      "metadata": {
        "id": "Se7yJtoea4Sq"
      },
      "source": [
        "# Method 2"
      ]
    },
    {
      "cell_type": "code",
      "metadata": {
        "id": "b3O54DVfZMBH"
      },
      "source": [
        "import pandas as pd\n",
        "data = pd.read_csv('train.csv')"
      ],
      "execution_count": 93,
      "outputs": []
    },
    {
      "cell_type": "code",
      "metadata": {
        "colab": {
          "base_uri": "https://localhost:8080/",
          "height": 202
        },
        "id": "vs_cMeztiKJ7",
        "outputId": "33aa71d3-5c63-4487-94c8-179be6e5f66f"
      },
      "source": [
        "data.head()"
      ],
      "execution_count": 94,
      "outputs": [
        {
          "output_type": "execute_result",
          "data": {
            "text/html": [
              "<div>\n",
              "<style scoped>\n",
              "    .dataframe tbody tr th:only-of-type {\n",
              "        vertical-align: middle;\n",
              "    }\n",
              "\n",
              "    .dataframe tbody tr th {\n",
              "        vertical-align: top;\n",
              "    }\n",
              "\n",
              "    .dataframe thead th {\n",
              "        text-align: right;\n",
              "    }\n",
              "</style>\n",
              "<table border=\"1\" class=\"dataframe\">\n",
              "  <thead>\n",
              "    <tr style=\"text-align: right;\">\n",
              "      <th></th>\n",
              "      <th>Row ID</th>\n",
              "      <th>Order ID</th>\n",
              "      <th>Order Date</th>\n",
              "      <th>Ship Date</th>\n",
              "      <th>Ship Mode</th>\n",
              "      <th>Customer ID</th>\n",
              "      <th>Customer Name</th>\n",
              "      <th>Segment</th>\n",
              "      <th>Country</th>\n",
              "      <th>City</th>\n",
              "      <th>State</th>\n",
              "      <th>Postal Code</th>\n",
              "      <th>Region</th>\n",
              "      <th>Product ID</th>\n",
              "      <th>Category</th>\n",
              "      <th>Sub-Category</th>\n",
              "      <th>Product Name</th>\n",
              "      <th>Sales</th>\n",
              "    </tr>\n",
              "  </thead>\n",
              "  <tbody>\n",
              "    <tr>\n",
              "      <th>0</th>\n",
              "      <td>1</td>\n",
              "      <td>CA-2017-152156</td>\n",
              "      <td>08/11/2017</td>\n",
              "      <td>11/11/2017</td>\n",
              "      <td>Second Class</td>\n",
              "      <td>CG-12520</td>\n",
              "      <td>Claire Gute</td>\n",
              "      <td>Consumer</td>\n",
              "      <td>United States</td>\n",
              "      <td>Henderson</td>\n",
              "      <td>Kentucky</td>\n",
              "      <td>42420.0</td>\n",
              "      <td>South</td>\n",
              "      <td>FUR-BO-10001798</td>\n",
              "      <td>Furniture</td>\n",
              "      <td>Bookcases</td>\n",
              "      <td>Bush Somerset Collection Bookcase</td>\n",
              "      <td>261.9600</td>\n",
              "    </tr>\n",
              "    <tr>\n",
              "      <th>1</th>\n",
              "      <td>2</td>\n",
              "      <td>CA-2017-152156</td>\n",
              "      <td>08/11/2017</td>\n",
              "      <td>11/11/2017</td>\n",
              "      <td>Second Class</td>\n",
              "      <td>CG-12520</td>\n",
              "      <td>Claire Gute</td>\n",
              "      <td>Consumer</td>\n",
              "      <td>United States</td>\n",
              "      <td>Henderson</td>\n",
              "      <td>Kentucky</td>\n",
              "      <td>42420.0</td>\n",
              "      <td>South</td>\n",
              "      <td>FUR-CH-10000454</td>\n",
              "      <td>Furniture</td>\n",
              "      <td>Chairs</td>\n",
              "      <td>Hon Deluxe Fabric Upholstered Stacking Chairs,...</td>\n",
              "      <td>731.9400</td>\n",
              "    </tr>\n",
              "    <tr>\n",
              "      <th>2</th>\n",
              "      <td>3</td>\n",
              "      <td>CA-2017-138688</td>\n",
              "      <td>12/06/2017</td>\n",
              "      <td>16/06/2017</td>\n",
              "      <td>Second Class</td>\n",
              "      <td>DV-13045</td>\n",
              "      <td>Darrin Van Huff</td>\n",
              "      <td>Corporate</td>\n",
              "      <td>United States</td>\n",
              "      <td>Los Angeles</td>\n",
              "      <td>California</td>\n",
              "      <td>90036.0</td>\n",
              "      <td>West</td>\n",
              "      <td>OFF-LA-10000240</td>\n",
              "      <td>Office Supplies</td>\n",
              "      <td>Labels</td>\n",
              "      <td>Self-Adhesive Address Labels for Typewriters b...</td>\n",
              "      <td>14.6200</td>\n",
              "    </tr>\n",
              "    <tr>\n",
              "      <th>3</th>\n",
              "      <td>4</td>\n",
              "      <td>US-2016-108966</td>\n",
              "      <td>11/10/2016</td>\n",
              "      <td>18/10/2016</td>\n",
              "      <td>Standard Class</td>\n",
              "      <td>SO-20335</td>\n",
              "      <td>Sean O'Donnell</td>\n",
              "      <td>Consumer</td>\n",
              "      <td>United States</td>\n",
              "      <td>Fort Lauderdale</td>\n",
              "      <td>Florida</td>\n",
              "      <td>33311.0</td>\n",
              "      <td>South</td>\n",
              "      <td>FUR-TA-10000577</td>\n",
              "      <td>Furniture</td>\n",
              "      <td>Tables</td>\n",
              "      <td>Bretford CR4500 Series Slim Rectangular Table</td>\n",
              "      <td>957.5775</td>\n",
              "    </tr>\n",
              "    <tr>\n",
              "      <th>4</th>\n",
              "      <td>5</td>\n",
              "      <td>US-2016-108966</td>\n",
              "      <td>11/10/2016</td>\n",
              "      <td>18/10/2016</td>\n",
              "      <td>Standard Class</td>\n",
              "      <td>SO-20335</td>\n",
              "      <td>Sean O'Donnell</td>\n",
              "      <td>Consumer</td>\n",
              "      <td>United States</td>\n",
              "      <td>Fort Lauderdale</td>\n",
              "      <td>Florida</td>\n",
              "      <td>33311.0</td>\n",
              "      <td>South</td>\n",
              "      <td>OFF-ST-10000760</td>\n",
              "      <td>Office Supplies</td>\n",
              "      <td>Storage</td>\n",
              "      <td>Eldon Fold 'N Roll Cart System</td>\n",
              "      <td>22.3680</td>\n",
              "    </tr>\n",
              "  </tbody>\n",
              "</table>\n",
              "</div>"
            ],
            "text/plain": [
              "   Row ID  ...     Sales\n",
              "0       1  ...  261.9600\n",
              "1       2  ...  731.9400\n",
              "2       3  ...   14.6200\n",
              "3       4  ...  957.5775\n",
              "4       5  ...   22.3680\n",
              "\n",
              "[5 rows x 18 columns]"
            ]
          },
          "metadata": {},
          "execution_count": 94
        }
      ]
    },
    {
      "cell_type": "code",
      "metadata": {
        "colab": {
          "base_uri": "https://localhost:8080/"
        },
        "id": "63G-pQepiMvX",
        "outputId": "dd553ef3-4515-4ae5-b252-3b35ca781df1"
      },
      "source": [
        "features_dataset = tf.data.Dataset.from_tensor_slices((data.iloc[:,0], data.iloc[:,1], data.iloc[:,2], data.iloc[:,3],\n",
        "                                                       data.iloc[:,4], data.iloc[:,5], data.iloc[:,6], data.iloc[:,7],\n",
        "                                                       data.iloc[:,8], data.iloc[:,9], data.iloc[:,10], data.iloc[:,11],\n",
        "                                                       data.iloc[:,12], data.iloc[:,13], data.iloc[:,14], data.iloc[:,15],\n",
        "                                                       data.iloc[:,16], data.iloc[:,17]))\n",
        "features_dataset"
      ],
      "execution_count": 95,
      "outputs": [
        {
          "output_type": "execute_result",
          "data": {
            "text/plain": [
              "<TensorSliceDataset shapes: ((), (), (), (), (), (), (), (), (), (), (), (), (), (), (), (), (), ()), types: (tf.int64, tf.string, tf.string, tf.string, tf.string, tf.string, tf.string, tf.string, tf.string, tf.string, tf.string, tf.float64, tf.string, tf.string, tf.string, tf.string, tf.string, tf.float64)>"
            ]
          },
          "metadata": {},
          "execution_count": 95
        }
      ]
    },
    {
      "cell_type": "code",
      "metadata": {
        "id": "gJPtwFbGl1e8"
      },
      "source": [
        "def serialize_example(feature0, feature1, feature2, feature3, feature4, \n",
        "                      feature5, feature6, feature7, feature8, feature9, \n",
        "                      feature10, feature11, feature12, feature13, feature14, \n",
        "                      feature15, feature16, feature17):\n",
        "  \"\"\"\n",
        "  Creates a tf.train.Example message ready to be written to a file.\n",
        "  \"\"\"\n",
        "  # Create a dictionary mapping the feature name to the tf.train.Example-compatible\n",
        "  # data type.\n",
        "  feature = {\n",
        "      'feature0': _int64_feature(feature0),\n",
        "      'feature1': _bytes_feature(feature1),\n",
        "      'feature2': _bytes_feature(feature2),\n",
        "      'feature3': _bytes_feature(feature3),\n",
        "      'feature4': _bytes_feature(feature4),\n",
        "      'feature5': _bytes_feature(feature5),\n",
        "      'feature6': _bytes_feature(feature6),\n",
        "      'feature7': _bytes_feature(feature7),\n",
        "      'feature8': _bytes_feature(feature8),\n",
        "      'feature9': _bytes_feature(feature9),\n",
        "      'feature10': _bytes_feature(feature10),\n",
        "      'feature11': _float_feature(feature11),\n",
        "      'feature12': _bytes_feature(feature12),\n",
        "      'feature13': _bytes_feature(feature13),\n",
        "      'feature14': _bytes_feature(feature14),\n",
        "      'feature15': _bytes_feature(feature15),\n",
        "      'feature16': _bytes_feature(feature16),\n",
        "      'feature17': _float_feature(feature17)\n",
        "  }\n",
        "\n",
        "  # Create a Features message using tf.train.Example.\n",
        "\n",
        "  example_proto = tf.train.Example(features=tf.train.Features(feature=feature))\n",
        "  return example_proto.SerializeToString()"
      ],
      "execution_count": 96,
      "outputs": []
    },
    {
      "cell_type": "code",
      "metadata": {
        "id": "3GhT6P4Ejg5C"
      },
      "source": [
        "def tf_serialize_example(f0,f1,f2,f3,f4,f5,f6,f7,f8,f9,f10,f11,f12,f13,f14,f15,f16,f17):\n",
        "  tf_string = tf.py_function(\n",
        "    serialize_example,\n",
        "    (f0,f1,f2,f3,f4,f5,f6,f7,f8,f9,f10,f11,f12,f13,f14,f15,f16,f17),  # Pass these args to the above function.\n",
        "    tf.string)      # The return type is `tf.string`.\n",
        "  return tf.reshape(tf_string, ()) # The result is a scalar."
      ],
      "execution_count": 97,
      "outputs": []
    },
    {
      "cell_type": "code",
      "metadata": {
        "colab": {
          "base_uri": "https://localhost:8080/"
        },
        "id": "y80QftVTkWY5",
        "outputId": "b6226c64-fe79-4ed2-fa5c-c70e5d7f401e"
      },
      "source": [
        "serialized_features_dataset = features_dataset.map(tf_serialize_example)\n",
        "serialized_features_dataset"
      ],
      "execution_count": 98,
      "outputs": [
        {
          "output_type": "execute_result",
          "data": {
            "text/plain": [
              "<MapDataset shapes: (), types: tf.string>"
            ]
          },
          "metadata": {},
          "execution_count": 98
        }
      ]
    },
    {
      "cell_type": "code",
      "metadata": {
        "id": "7nm48gKqi09X"
      },
      "source": [
        "def generator():\n",
        "  for features in features_dataset:\n",
        "    yield serialize_example(*features)"
      ],
      "execution_count": 99,
      "outputs": []
    },
    {
      "cell_type": "code",
      "metadata": {
        "id": "foerULVbjR2f"
      },
      "source": [
        "serialized_features_dataset = tf.data.Dataset.from_generator(\n",
        "    generator, output_types=tf.string, output_shapes=())"
      ],
      "execution_count": 100,
      "outputs": []
    },
    {
      "cell_type": "code",
      "metadata": {
        "colab": {
          "base_uri": "https://localhost:8080/"
        },
        "id": "o7lqdSbkjU6H",
        "outputId": "7ed1feb4-5652-4b33-9bd1-effe252a8359"
      },
      "source": [
        "serialized_features_dataset"
      ],
      "execution_count": 101,
      "outputs": [
        {
          "output_type": "execute_result",
          "data": {
            "text/plain": [
              "<FlatMapDataset shapes: (), types: tf.string>"
            ]
          },
          "metadata": {},
          "execution_count": 101
        }
      ]
    },
    {
      "cell_type": "code",
      "metadata": {
        "id": "VqvSXQ4yjWz3"
      },
      "source": [
        "filename = 'test1.tfrecord'\n",
        "writer = tf.data.experimental.TFRecordWriter(filename)\n",
        "writer.write(serialized_features_dataset)"
      ],
      "execution_count": 102,
      "outputs": []
    },
    {
      "cell_type": "code",
      "metadata": {
        "colab": {
          "base_uri": "https://localhost:8080/"
        },
        "id": "qlQ1fvD3jcYX",
        "outputId": "26e68e5c-ea25-491c-c09f-7e113c175d36"
      },
      "source": [
        "filenames = [filename]\n",
        "raw_dataset = tf.data.TFRecordDataset(filenames)\n",
        "raw_dataset"
      ],
      "execution_count": 103,
      "outputs": [
        {
          "output_type": "execute_result",
          "data": {
            "text/plain": [
              "<TFRecordDatasetV2 shapes: (), types: tf.string>"
            ]
          },
          "metadata": {},
          "execution_count": 103
        }
      ]
    },
    {
      "cell_type": "code",
      "metadata": {
        "colab": {
          "base_uri": "https://localhost:8080/"
        },
        "id": "DKI6o_qCmqDw",
        "outputId": "6039ccdf-93d4-4c0f-85fc-c2d8068da5d1"
      },
      "source": [
        "for raw_record in raw_dataset.take(10):\n",
        "  print(repr(raw_record))"
      ],
      "execution_count": 104,
      "outputs": [
        {
          "output_type": "stream",
          "name": "stdout",
          "text": [
            "<tf.Tensor: shape=(), dtype=string, numpy=b'\\n\\x83\\x04\\n\\x18\\n\\x08feature5\\x12\\x0c\\n\\n\\n\\x08CG-12520\\n2\\n\\tfeature16\\x12%\\n#\\n!Bush Somerset Collection Bookcase\\n\\x18\\n\\x08feature7\\x12\\x0c\\n\\n\\n\\x08Consumer\\n\\x1e\\n\\x08feature1\\x12\\x12\\n\\x10\\n\\x0eCA-2017-152156\\n\\x1a\\n\\tfeature14\\x12\\r\\n\\x0b\\n\\tFurniture\\n\\x1a\\n\\x08feature2\\x12\\x0e\\n\\x0c\\n\\n08/11/2017\\n\\x1a\\n\\tfeature15\\x12\\r\\n\\x0b\\n\\tBookcases\\n\\x15\\n\\tfeature11\\x12\\x08\\x12\\x06\\n\\x04\\x00\\xb4%G\\n\\x1b\\n\\x08feature6\\x12\\x0f\\n\\r\\n\\x0bClaire Gute\\n\\x11\\n\\x08feature0\\x12\\x05\\x1a\\x03\\n\\x01\\x01\\n\\x1a\\n\\x08feature3\\x12\\x0e\\n\\x0c\\n\\n11/11/2017\\n\\x1c\\n\\x08feature4\\x12\\x10\\n\\x0e\\n\\x0cSecond Class\\n \\n\\tfeature13\\x12\\x13\\n\\x11\\n\\x0fFUR-BO-10001798\\n\\x16\\n\\tfeature12\\x12\\t\\n\\x07\\n\\x05South\\n\\x19\\n\\tfeature10\\x12\\x0c\\n\\n\\n\\x08Kentucky\\n\\x15\\n\\tfeature17\\x12\\x08\\x12\\x06\\n\\x04\\xe1\\xfa\\x82C\\n\\x1d\\n\\x08feature8\\x12\\x11\\n\\x0f\\n\\rUnited States\\n\\x19\\n\\x08feature9\\x12\\r\\n\\x0b\\n\\tHenderson'>\n",
            "<tf.Tensor: shape=(), dtype=string, numpy=b'\\n\\x9a\\x04\\n\\x1a\\n\\x08feature2\\x12\\x0e\\n\\x0c\\n\\n08/11/2017\\n\\x15\\n\\tfeature17\\x12\\x08\\x12\\x06\\n\\x04)\\xfc6D\\n\\x18\\n\\x08feature5\\x12\\x0c\\n\\n\\n\\x08CG-12520\\n\\x16\\n\\tfeature12\\x12\\t\\n\\x07\\n\\x05South\\n \\n\\tfeature13\\x12\\x13\\n\\x11\\n\\x0fFUR-CH-10000454\\n\\x1d\\n\\x08feature8\\x12\\x11\\n\\x0f\\n\\rUnited States\\n\\x19\\n\\tfeature10\\x12\\x0c\\n\\n\\n\\x08Kentucky\\n\\x1e\\n\\x08feature1\\x12\\x12\\n\\x10\\n\\x0eCA-2017-152156\\nL\\n\\tfeature16\\x12?\\n=\\n;Hon Deluxe Fabric Upholstered Stacking Chairs, Rounded Back\\n\\x1a\\n\\tfeature14\\x12\\r\\n\\x0b\\n\\tFurniture\\n\\x15\\n\\tfeature11\\x12\\x08\\x12\\x06\\n\\x04\\x00\\xb4%G\\n\\x1c\\n\\x08feature4\\x12\\x10\\n\\x0e\\n\\x0cSecond Class\\n\\x17\\n\\tfeature15\\x12\\n\\n\\x08\\n\\x06Chairs\\n\\x11\\n\\x08feature0\\x12\\x05\\x1a\\x03\\n\\x01\\x02\\n\\x18\\n\\x08feature7\\x12\\x0c\\n\\n\\n\\x08Consumer\\n\\x1a\\n\\x08feature3\\x12\\x0e\\n\\x0c\\n\\n11/11/2017\\n\\x1b\\n\\x08feature6\\x12\\x0f\\n\\r\\n\\x0bClaire Gute\\n\\x19\\n\\x08feature9\\x12\\r\\n\\x0b\\n\\tHenderson'>\n",
            "<tf.Tensor: shape=(), dtype=string, numpy=b'\\n\\xa6\\x04\\n\\x1a\\n\\x08feature2\\x12\\x0e\\n\\x0c\\n\\n12/06/2017\\n\\x1c\\n\\x08feature4\\x12\\x10\\n\\x0e\\n\\x0cSecond Class\\n\\x15\\n\\tfeature12\\x12\\x08\\n\\x06\\n\\x04West\\n\\x15\\n\\tfeature11\\x12\\x08\\x12\\x06\\n\\x04\\x00\\xda\\xafG\\n\\x1e\\n\\x08feature1\\x12\\x12\\n\\x10\\n\\x0eCA-2017-138688\\n\\x15\\n\\tfeature17\\x12\\x08\\x12\\x06\\n\\x04\\x85\\xebiA\\n \\n\\tfeature14\\x12\\x13\\n\\x11\\n\\x0fOffice Supplies\\n\\x1b\\n\\tfeature10\\x12\\x0e\\n\\x0c\\n\\nCalifornia\\nJ\\n\\tfeature16\\x12=\\n;\\n9Self-Adhesive Address Labels for Typewriters by Universal\\n\\x17\\n\\tfeature15\\x12\\n\\n\\x08\\n\\x06Labels\\n\\x1b\\n\\x08feature9\\x12\\x0f\\n\\r\\n\\x0bLos Angeles\\n\\x18\\n\\x08feature5\\x12\\x0c\\n\\n\\n\\x08DV-13045\\n\\x1f\\n\\x08feature6\\x12\\x13\\n\\x11\\n\\x0fDarrin Van Huff\\n\\x1a\\n\\x08feature3\\x12\\x0e\\n\\x0c\\n\\n16/06/2017\\n \\n\\tfeature13\\x12\\x13\\n\\x11\\n\\x0fOFF-LA-10000240\\n\\x1d\\n\\x08feature8\\x12\\x11\\n\\x0f\\n\\rUnited States\\n\\x11\\n\\x08feature0\\x12\\x05\\x1a\\x03\\n\\x01\\x03\\n\\x19\\n\\x08feature7\\x12\\r\\n\\x0b\\n\\tCorporate'>\n",
            "<tf.Tensor: shape=(), dtype=string, numpy=b\"\\n\\x96\\x04\\n\\x17\\n\\tfeature15\\x12\\n\\n\\x08\\n\\x06Tables\\n\\x15\\n\\tfeature11\\x12\\x08\\x12\\x06\\n\\x04\\x00\\x1f\\x02G\\n\\x18\\n\\x08feature5\\x12\\x0c\\n\\n\\n\\x08SO-20335\\n\\x1e\\n\\x08feature6\\x12\\x12\\n\\x10\\n\\x0eSean O'Donnell\\n\\x1a\\n\\x08feature2\\x12\\x0e\\n\\x0c\\n\\n11/10/2016\\n\\x1f\\n\\x08feature9\\x12\\x13\\n\\x11\\n\\x0fFort Lauderdale\\n\\x1e\\n\\x08feature1\\x12\\x12\\n\\x10\\n\\x0eUS-2016-108966\\n\\x1d\\n\\x08feature8\\x12\\x11\\n\\x0f\\n\\rUnited States\\n\\x1a\\n\\tfeature14\\x12\\r\\n\\x0b\\n\\tFurniture\\n\\x1a\\n\\x08feature3\\x12\\x0e\\n\\x0c\\n\\n18/10/2016\\n\\x15\\n\\tfeature17\\x12\\x08\\x12\\x06\\n\\x04\\xf6doD\\n \\n\\tfeature13\\x12\\x13\\n\\x11\\n\\x0fFUR-TA-10000577\\n\\x1e\\n\\x08feature4\\x12\\x12\\n\\x10\\n\\x0eStandard Class\\n\\x11\\n\\x08feature0\\x12\\x05\\x1a\\x03\\n\\x01\\x04\\n\\x18\\n\\tfeature10\\x12\\x0b\\n\\t\\n\\x07Florida\\n\\x18\\n\\x08feature7\\x12\\x0c\\n\\n\\n\\x08Consumer\\n\\x16\\n\\tfeature12\\x12\\t\\n\\x07\\n\\x05South\\n>\\n\\tfeature16\\x121\\n/\\n-Bretford CR4500 Series Slim Rectangular Table\">\n",
            "<tf.Tensor: shape=(), dtype=string, numpy=b'\\n\\x8e\\x04\\n\\x15\\n\\tfeature11\\x12\\x08\\x12\\x06\\n\\x04\\x00\\x1f\\x02G\\n\\x1a\\n\\x08feature3\\x12\\x0e\\n\\x0c\\n\\n18/10/2016\\n \\n\\tfeature14\\x12\\x13\\n\\x11\\n\\x0fOffice Supplies\\n\\x1f\\n\\x08feature9\\x12\\x13\\n\\x11\\n\\x0fFort Lauderdale\\n\\x1e\\n\\x08feature1\\x12\\x12\\n\\x10\\n\\x0eUS-2016-108966\\n\\x11\\n\\x08feature0\\x12\\x05\\x1a\\x03\\n\\x01\\x05\\n\\x1d\\n\\x08feature8\\x12\\x11\\n\\x0f\\n\\rUnited States\\n/\\n\\tfeature16\\x12\"\\n \\n\\x1eEldon Fold \\'N Roll Cart System\\n\\x18\\n\\x08feature5\\x12\\x0c\\n\\n\\n\\x08SO-20335\\n\\x1e\\n\\x08feature4\\x12\\x12\\n\\x10\\n\\x0eStandard Class\\n \\n\\tfeature13\\x12\\x13\\n\\x11\\n\\x0fOFF-ST-10000760\\n\\x18\\n\\tfeature15\\x12\\x0b\\n\\t\\n\\x07Storage\\n\\x18\\n\\x08feature7\\x12\\x0c\\n\\n\\n\\x08Consumer\\n\\x1a\\n\\x08feature2\\x12\\x0e\\n\\x0c\\n\\n11/10/2016\\n\\x1e\\n\\x08feature6\\x12\\x12\\n\\x10\\n\\x0eSean O\\'Donnell\\n\\x18\\n\\tfeature10\\x12\\x0b\\n\\t\\n\\x07Florida\\n\\x16\\n\\tfeature12\\x12\\t\\n\\x07\\n\\x05South\\n\\x15\\n\\tfeature17\\x12\\x08\\x12\\x06\\n\\x04\\xaa\\xf1\\xb2A'>\n",
            "<tf.Tensor: shape=(), dtype=string, numpy=b'\\n\\xad\\x04\\n\\x15\\n\\tfeature12\\x12\\x08\\n\\x06\\n\\x04West\\n\\x18\\n\\x08feature7\\x12\\x0c\\n\\n\\n\\x08Consumer\\n\\x1b\\n\\tfeature10\\x12\\x0e\\n\\x0c\\n\\nCalifornia\\n\\x15\\n\\tfeature17\\x12\\x08\\x12\\x06\\n\\x04\\xa4pCB\\n\\x1a\\n\\x08feature3\\x12\\x0e\\n\\x0c\\n\\n14/06/2015\\n\\x1f\\n\\x08feature6\\x12\\x13\\n\\x11\\n\\x0fBrosina Hoffman\\n\\x1d\\n\\x08feature8\\x12\\x11\\n\\x0f\\n\\rUnited States\\nQ\\n\\tfeature16\\x12D\\nB\\n@Eldon Expressions Wood and Plastic Desk Accessories, Cherry Wood\\n\\x1a\\n\\x08feature2\\x12\\x0e\\n\\x0c\\n\\n09/06/2015\\n\\x1e\\n\\x08feature1\\x12\\x12\\n\\x10\\n\\x0eCA-2015-115812\\n\\x18\\n\\x08feature5\\x12\\x0c\\n\\n\\n\\x08BH-11710\\n\\x1a\\n\\tfeature14\\x12\\r\\n\\x0b\\n\\tFurniture\\n \\n\\tfeature13\\x12\\x13\\n\\x11\\n\\x0fFUR-FU-10001487\\n\\x11\\n\\x08feature0\\x12\\x05\\x1a\\x03\\n\\x01\\x06\\n\\x1b\\n\\x08feature9\\x12\\x0f\\n\\r\\n\\x0bLos Angeles\\n\\x15\\n\\tfeature11\\x12\\x08\\x12\\x06\\n\\x04\\x00\\xd8\\xafG\\n\\x1c\\n\\tfeature15\\x12\\x0f\\n\\r\\n\\x0bFurnishings\\n\\x1e\\n\\x08feature4\\x12\\x12\\n\\x10\\n\\x0eStandard Class'>\n",
            "<tf.Tensor: shape=(), dtype=string, numpy=b'\\n\\xf5\\x03\\n \\n\\tfeature14\\x12\\x13\\n\\x11\\n\\x0fOffice Supplies\\n\\x1e\\n\\x08feature4\\x12\\x12\\n\\x10\\n\\x0eStandard Class\\n\\x18\\n\\x08feature5\\x12\\x0c\\n\\n\\n\\x08BH-11710\\n\\x1e\\n\\x08feature1\\x12\\x12\\n\\x10\\n\\x0eCA-2015-115812\\n\\x1b\\n\\tfeature16\\x12\\x0e\\n\\x0c\\n\\nNewell 322\\n\\x1a\\n\\x08feature2\\x12\\x0e\\n\\x0c\\n\\n09/06/2015\\n\\x14\\n\\tfeature15\\x12\\x07\\n\\x05\\n\\x03Art\\n\\x1a\\n\\x08feature3\\x12\\x0e\\n\\x0c\\n\\n14/06/2015\\n\\x11\\n\\x08feature0\\x12\\x05\\x1a\\x03\\n\\x01\\x07\\n \\n\\tfeature13\\x12\\x13\\n\\x11\\n\\x0fOFF-AR-10002833\\n\\x1b\\n\\x08feature9\\x12\\x0f\\n\\r\\n\\x0bLos Angeles\\n\\x15\\n\\tfeature17\\x12\\x08\\x12\\x06\\n\\x04\\xc3\\xf5\\xe8@\\n\\x1f\\n\\x08feature6\\x12\\x13\\n\\x11\\n\\x0fBrosina Hoffman\\n\\x18\\n\\x08feature7\\x12\\x0c\\n\\n\\n\\x08Consumer\\n\\x15\\n\\tfeature11\\x12\\x08\\x12\\x06\\n\\x04\\x00\\xd8\\xafG\\n\\x1d\\n\\x08feature8\\x12\\x11\\n\\x0f\\n\\rUnited States\\n\\x1b\\n\\tfeature10\\x12\\x0e\\n\\x0c\\n\\nCalifornia\\n\\x15\\n\\tfeature12\\x12\\x08\\n\\x06\\n\\x04West'>\n",
            "<tf.Tensor: shape=(), dtype=string, numpy=b'\\n\\x87\\x04\\n\\x1b\\n\\tfeature14\\x12\\x0e\\n\\x0c\\n\\nTechnology\\n\\x18\\n\\x08feature5\\x12\\x0c\\n\\n\\n\\x08BH-11710\\n\\x1e\\n\\x08feature4\\x12\\x12\\n\\x10\\n\\x0eStandard Class\\n\\x1b\\n\\x08feature9\\x12\\x0f\\n\\r\\n\\x0bLos Angeles\\n\\x15\\n\\tfeature11\\x12\\x08\\x12\\x06\\n\\x04\\x00\\xd8\\xafG\\n\\x1b\\n\\tfeature10\\x12\\x0e\\n\\x0c\\n\\nCalifornia\\n\\x17\\n\\tfeature15\\x12\\n\\n\\x08\\n\\x06Phones\\n\\x15\\n\\tfeature12\\x12\\x08\\n\\x06\\n\\x04West\\n\\x1a\\n\\x08feature3\\x12\\x0e\\n\\x0c\\n\\n14/06/2015\\n/\\n\\tfeature16\\x12\"\\n \\n\\x1eMitel 5320 IP Phone VoIP phone\\n\\x18\\n\\x08feature7\\x12\\x0c\\n\\n\\n\\x08Consumer\\n\\x1f\\n\\x08feature6\\x12\\x13\\n\\x11\\n\\x0fBrosina Hoffman\\n\\x1a\\n\\x08feature2\\x12\\x0e\\n\\x0c\\n\\n09/06/2015\\n\\x1d\\n\\x08feature8\\x12\\x11\\n\\x0f\\n\\rUnited States\\n\\x15\\n\\tfeature17\\x12\\x08\\x12\\x06\\n\\x04\\xba\\xc9bD\\n \\n\\tfeature13\\x12\\x13\\n\\x11\\n\\x0fTEC-PH-10002275\\n\\x1e\\n\\x08feature1\\x12\\x12\\n\\x10\\n\\x0eCA-2015-115812\\n\\x11\\n\\x08feature0\\x12\\x05\\x1a\\x03\\n\\x01\\x08'>\n",
            "<tf.Tensor: shape=(), dtype=string, numpy=b'\\n\\xa3\\x04\\n\\x18\\n\\x08feature5\\x12\\x0c\\n\\n\\n\\x08BH-11710\\n\\x15\\n\\tfeature17\\x12\\x08\\x12\\x06\\n\\x041\\x08\\x94A\\n\\x1a\\n\\x08feature2\\x12\\x0e\\n\\x0c\\n\\n09/06/2015\\n\\x18\\n\\tfeature15\\x12\\x0b\\n\\t\\n\\x07Binders\\nE\\n\\tfeature16\\x128\\n6\\n4DXL Angle-View Binders with Locking Rings by Samsill\\n\\x1f\\n\\x08feature6\\x12\\x13\\n\\x11\\n\\x0fBrosina Hoffman\\n\\x18\\n\\x08feature7\\x12\\x0c\\n\\n\\n\\x08Consumer\\n\\x15\\n\\tfeature11\\x12\\x08\\x12\\x06\\n\\x04\\x00\\xd8\\xafG\\n\\x1a\\n\\x08feature3\\x12\\x0e\\n\\x0c\\n\\n14/06/2015\\n \\n\\tfeature13\\x12\\x13\\n\\x11\\n\\x0fOFF-BI-10003910\\n\\x1b\\n\\x08feature9\\x12\\x0f\\n\\r\\n\\x0bLos Angeles\\n\\x1e\\n\\x08feature4\\x12\\x12\\n\\x10\\n\\x0eStandard Class\\n\\x1b\\n\\tfeature10\\x12\\x0e\\n\\x0c\\n\\nCalifornia\\n \\n\\tfeature14\\x12\\x13\\n\\x11\\n\\x0fOffice Supplies\\n\\x15\\n\\tfeature12\\x12\\x08\\n\\x06\\n\\x04West\\n\\x11\\n\\x08feature0\\x12\\x05\\x1a\\x03\\n\\x01\\t\\n\\x1d\\n\\x08feature8\\x12\\x11\\n\\x0f\\n\\rUnited States\\n\\x1e\\n\\x08feature1\\x12\\x12\\n\\x10\\n\\x0eCA-2015-115812'>\n",
            "<tf.Tensor: shape=(), dtype=string, numpy=b'\\n\\x92\\x04\\n \\n\\tfeature13\\x12\\x13\\n\\x11\\n\\x0fOFF-AP-10002892\\n\\x1a\\n\\x08feature2\\x12\\x0e\\n\\x0c\\n\\n09/06/2015\\n1\\n\\tfeature16\\x12$\\n\"\\n Belkin F5C206VTEL 6 Outlet Surge\\n\\x1f\\n\\x08feature6\\x12\\x13\\n\\x11\\n\\x0fBrosina Hoffman\\n\\x1e\\n\\x08feature1\\x12\\x12\\n\\x10\\n\\x0eCA-2015-115812\\n\\x1a\\n\\x08feature3\\x12\\x0e\\n\\x0c\\n\\n14/06/2015\\n\\x18\\n\\x08feature5\\x12\\x0c\\n\\n\\n\\x08BH-11710\\n\\x1d\\n\\x08feature8\\x12\\x11\\n\\x0f\\n\\rUnited States\\n \\n\\tfeature14\\x12\\x13\\n\\x11\\n\\x0fOffice Supplies\\n\\x15\\n\\tfeature17\\x12\\x08\\x12\\x06\\n\\x04\\xcd\\xcc\\xe5B\\n\\x1e\\n\\x08feature4\\x12\\x12\\n\\x10\\n\\x0eStandard Class\\n\\x15\\n\\tfeature11\\x12\\x08\\x12\\x06\\n\\x04\\x00\\xd8\\xafG\\n\\x18\\n\\x08feature7\\x12\\x0c\\n\\n\\n\\x08Consumer\\n\\x15\\n\\tfeature12\\x12\\x08\\n\\x06\\n\\x04West\\n\\x11\\n\\x08feature0\\x12\\x05\\x1a\\x03\\n\\x01\\n\\n\\x1b\\n\\tfeature15\\x12\\x0e\\n\\x0c\\n\\nAppliances\\n\\x1b\\n\\x08feature9\\x12\\x0f\\n\\r\\n\\x0bLos Angeles\\n\\x1b\\n\\tfeature10\\x12\\x0e\\n\\x0c\\n\\nCalifornia'>\n"
          ]
        }
      ]
    },
    {
      "cell_type": "code",
      "metadata": {
        "id": "wIqvkbspmtp_"
      },
      "source": [
        "# Create a description of the features.\n",
        "feature_description = {\n",
        "    'feature0': tf.io.FixedLenFeature([], tf.int64, default_value=0),\n",
        "    'feature1': tf.io.FixedLenFeature([], tf.string, default_value=''),\n",
        "    'feature2': tf.io.FixedLenFeature([], tf.string, default_value=''),\n",
        "    'feature3': tf.io.FixedLenFeature([], tf.string, default_value=''),\n",
        "    'feature4': tf.io.FixedLenFeature([], tf.string, default_value=''),\n",
        "    'feature5': tf.io.FixedLenFeature([], tf.string, default_value=''),\n",
        "    'feature6': tf.io.FixedLenFeature([], tf.string, default_value=''),\n",
        "    'feature7': tf.io.FixedLenFeature([], tf.string, default_value=''),\n",
        "    'feature8': tf.io.FixedLenFeature([], tf.string, default_value=''),\n",
        "    'feature9': tf.io.FixedLenFeature([], tf.string, default_value=''),\n",
        "    'feature10': tf.io.FixedLenFeature([], tf.string, default_value=''),\n",
        "    'feature11': tf.io.FixedLenFeature([], tf.float32, default_value=0.0),\n",
        "    'feature12': tf.io.FixedLenFeature([], tf.string, default_value=''),\n",
        "    'feature13': tf.io.FixedLenFeature([], tf.string, default_value=''),\n",
        "    'feature14': tf.io.FixedLenFeature([], tf.string, default_value=''),\n",
        "    'feature15': tf.io.FixedLenFeature([], tf.string, default_value=''),\n",
        "    'feature16': tf.io.FixedLenFeature([], tf.string, default_value=''),\n",
        "    'feature17': tf.io.FixedLenFeature([], tf.float32, default_value=0.0),\n",
        "}\n",
        "\n",
        "def _parse_function(example_proto):\n",
        "  # Parse the input `tf.train.Example` proto using the dictionary above.\n",
        "  return tf.io.parse_single_example(example_proto, feature_description)"
      ],
      "execution_count": 105,
      "outputs": []
    },
    {
      "cell_type": "code",
      "metadata": {
        "colab": {
          "base_uri": "https://localhost:8080/"
        },
        "id": "zpTpnWLNmxGP",
        "outputId": "e1f8698e-9016-4b83-c9b3-797f18185121"
      },
      "source": [
        "parsed_dataset = raw_dataset.map(_parse_function)\n",
        "parsed_dataset"
      ],
      "execution_count": 106,
      "outputs": [
        {
          "output_type": "execute_result",
          "data": {
            "text/plain": [
              "<MapDataset shapes: {feature0: (), feature1: (), feature10: (), feature11: (), feature12: (), feature13: (), feature14: (), feature15: (), feature16: (), feature17: (), feature2: (), feature3: (), feature4: (), feature5: (), feature6: (), feature7: (), feature8: (), feature9: ()}, types: {feature0: tf.int64, feature1: tf.string, feature10: tf.string, feature11: tf.float32, feature12: tf.string, feature13: tf.string, feature14: tf.string, feature15: tf.string, feature16: tf.string, feature17: tf.float32, feature2: tf.string, feature3: tf.string, feature4: tf.string, feature5: tf.string, feature6: tf.string, feature7: tf.string, feature8: tf.string, feature9: tf.string}>"
            ]
          },
          "metadata": {},
          "execution_count": 106
        }
      ]
    },
    {
      "cell_type": "code",
      "metadata": {
        "colab": {
          "base_uri": "https://localhost:8080/"
        },
        "id": "Xrxzg9shm1gn",
        "outputId": "02e334b9-47d2-49bd-b623-444414d80a9f"
      },
      "source": [
        "for parsed_record in parsed_dataset.take(10):\n",
        "  print(repr(parsed_record))"
      ],
      "execution_count": 107,
      "outputs": [
        {
          "output_type": "stream",
          "name": "stdout",
          "text": [
            "{'feature0': <tf.Tensor: shape=(), dtype=int64, numpy=1>, 'feature1': <tf.Tensor: shape=(), dtype=string, numpy=b'CA-2017-152156'>, 'feature10': <tf.Tensor: shape=(), dtype=string, numpy=b'Kentucky'>, 'feature11': <tf.Tensor: shape=(), dtype=float32, numpy=42420.0>, 'feature12': <tf.Tensor: shape=(), dtype=string, numpy=b'South'>, 'feature13': <tf.Tensor: shape=(), dtype=string, numpy=b'FUR-BO-10001798'>, 'feature14': <tf.Tensor: shape=(), dtype=string, numpy=b'Furniture'>, 'feature15': <tf.Tensor: shape=(), dtype=string, numpy=b'Bookcases'>, 'feature16': <tf.Tensor: shape=(), dtype=string, numpy=b'Bush Somerset Collection Bookcase'>, 'feature17': <tf.Tensor: shape=(), dtype=float32, numpy=261.96>, 'feature2': <tf.Tensor: shape=(), dtype=string, numpy=b'08/11/2017'>, 'feature3': <tf.Tensor: shape=(), dtype=string, numpy=b'11/11/2017'>, 'feature4': <tf.Tensor: shape=(), dtype=string, numpy=b'Second Class'>, 'feature5': <tf.Tensor: shape=(), dtype=string, numpy=b'CG-12520'>, 'feature6': <tf.Tensor: shape=(), dtype=string, numpy=b'Claire Gute'>, 'feature7': <tf.Tensor: shape=(), dtype=string, numpy=b'Consumer'>, 'feature8': <tf.Tensor: shape=(), dtype=string, numpy=b'United States'>, 'feature9': <tf.Tensor: shape=(), dtype=string, numpy=b'Henderson'>}\n",
            "{'feature0': <tf.Tensor: shape=(), dtype=int64, numpy=2>, 'feature1': <tf.Tensor: shape=(), dtype=string, numpy=b'CA-2017-152156'>, 'feature10': <tf.Tensor: shape=(), dtype=string, numpy=b'Kentucky'>, 'feature11': <tf.Tensor: shape=(), dtype=float32, numpy=42420.0>, 'feature12': <tf.Tensor: shape=(), dtype=string, numpy=b'South'>, 'feature13': <tf.Tensor: shape=(), dtype=string, numpy=b'FUR-CH-10000454'>, 'feature14': <tf.Tensor: shape=(), dtype=string, numpy=b'Furniture'>, 'feature15': <tf.Tensor: shape=(), dtype=string, numpy=b'Chairs'>, 'feature16': <tf.Tensor: shape=(), dtype=string, numpy=b'Hon Deluxe Fabric Upholstered Stacking Chairs, Rounded Back'>, 'feature17': <tf.Tensor: shape=(), dtype=float32, numpy=731.94>, 'feature2': <tf.Tensor: shape=(), dtype=string, numpy=b'08/11/2017'>, 'feature3': <tf.Tensor: shape=(), dtype=string, numpy=b'11/11/2017'>, 'feature4': <tf.Tensor: shape=(), dtype=string, numpy=b'Second Class'>, 'feature5': <tf.Tensor: shape=(), dtype=string, numpy=b'CG-12520'>, 'feature6': <tf.Tensor: shape=(), dtype=string, numpy=b'Claire Gute'>, 'feature7': <tf.Tensor: shape=(), dtype=string, numpy=b'Consumer'>, 'feature8': <tf.Tensor: shape=(), dtype=string, numpy=b'United States'>, 'feature9': <tf.Tensor: shape=(), dtype=string, numpy=b'Henderson'>}\n",
            "{'feature0': <tf.Tensor: shape=(), dtype=int64, numpy=3>, 'feature1': <tf.Tensor: shape=(), dtype=string, numpy=b'CA-2017-138688'>, 'feature10': <tf.Tensor: shape=(), dtype=string, numpy=b'California'>, 'feature11': <tf.Tensor: shape=(), dtype=float32, numpy=90036.0>, 'feature12': <tf.Tensor: shape=(), dtype=string, numpy=b'West'>, 'feature13': <tf.Tensor: shape=(), dtype=string, numpy=b'OFF-LA-10000240'>, 'feature14': <tf.Tensor: shape=(), dtype=string, numpy=b'Office Supplies'>, 'feature15': <tf.Tensor: shape=(), dtype=string, numpy=b'Labels'>, 'feature16': <tf.Tensor: shape=(), dtype=string, numpy=b'Self-Adhesive Address Labels for Typewriters by Universal'>, 'feature17': <tf.Tensor: shape=(), dtype=float32, numpy=14.62>, 'feature2': <tf.Tensor: shape=(), dtype=string, numpy=b'12/06/2017'>, 'feature3': <tf.Tensor: shape=(), dtype=string, numpy=b'16/06/2017'>, 'feature4': <tf.Tensor: shape=(), dtype=string, numpy=b'Second Class'>, 'feature5': <tf.Tensor: shape=(), dtype=string, numpy=b'DV-13045'>, 'feature6': <tf.Tensor: shape=(), dtype=string, numpy=b'Darrin Van Huff'>, 'feature7': <tf.Tensor: shape=(), dtype=string, numpy=b'Corporate'>, 'feature8': <tf.Tensor: shape=(), dtype=string, numpy=b'United States'>, 'feature9': <tf.Tensor: shape=(), dtype=string, numpy=b'Los Angeles'>}\n",
            "{'feature0': <tf.Tensor: shape=(), dtype=int64, numpy=4>, 'feature1': <tf.Tensor: shape=(), dtype=string, numpy=b'US-2016-108966'>, 'feature10': <tf.Tensor: shape=(), dtype=string, numpy=b'Florida'>, 'feature11': <tf.Tensor: shape=(), dtype=float32, numpy=33311.0>, 'feature12': <tf.Tensor: shape=(), dtype=string, numpy=b'South'>, 'feature13': <tf.Tensor: shape=(), dtype=string, numpy=b'FUR-TA-10000577'>, 'feature14': <tf.Tensor: shape=(), dtype=string, numpy=b'Furniture'>, 'feature15': <tf.Tensor: shape=(), dtype=string, numpy=b'Tables'>, 'feature16': <tf.Tensor: shape=(), dtype=string, numpy=b'Bretford CR4500 Series Slim Rectangular Table'>, 'feature17': <tf.Tensor: shape=(), dtype=float32, numpy=957.5775>, 'feature2': <tf.Tensor: shape=(), dtype=string, numpy=b'11/10/2016'>, 'feature3': <tf.Tensor: shape=(), dtype=string, numpy=b'18/10/2016'>, 'feature4': <tf.Tensor: shape=(), dtype=string, numpy=b'Standard Class'>, 'feature5': <tf.Tensor: shape=(), dtype=string, numpy=b'SO-20335'>, 'feature6': <tf.Tensor: shape=(), dtype=string, numpy=b\"Sean O'Donnell\">, 'feature7': <tf.Tensor: shape=(), dtype=string, numpy=b'Consumer'>, 'feature8': <tf.Tensor: shape=(), dtype=string, numpy=b'United States'>, 'feature9': <tf.Tensor: shape=(), dtype=string, numpy=b'Fort Lauderdale'>}\n",
            "{'feature0': <tf.Tensor: shape=(), dtype=int64, numpy=5>, 'feature1': <tf.Tensor: shape=(), dtype=string, numpy=b'US-2016-108966'>, 'feature10': <tf.Tensor: shape=(), dtype=string, numpy=b'Florida'>, 'feature11': <tf.Tensor: shape=(), dtype=float32, numpy=33311.0>, 'feature12': <tf.Tensor: shape=(), dtype=string, numpy=b'South'>, 'feature13': <tf.Tensor: shape=(), dtype=string, numpy=b'OFF-ST-10000760'>, 'feature14': <tf.Tensor: shape=(), dtype=string, numpy=b'Office Supplies'>, 'feature15': <tf.Tensor: shape=(), dtype=string, numpy=b'Storage'>, 'feature16': <tf.Tensor: shape=(), dtype=string, numpy=b\"Eldon Fold 'N Roll Cart System\">, 'feature17': <tf.Tensor: shape=(), dtype=float32, numpy=22.368>, 'feature2': <tf.Tensor: shape=(), dtype=string, numpy=b'11/10/2016'>, 'feature3': <tf.Tensor: shape=(), dtype=string, numpy=b'18/10/2016'>, 'feature4': <tf.Tensor: shape=(), dtype=string, numpy=b'Standard Class'>, 'feature5': <tf.Tensor: shape=(), dtype=string, numpy=b'SO-20335'>, 'feature6': <tf.Tensor: shape=(), dtype=string, numpy=b\"Sean O'Donnell\">, 'feature7': <tf.Tensor: shape=(), dtype=string, numpy=b'Consumer'>, 'feature8': <tf.Tensor: shape=(), dtype=string, numpy=b'United States'>, 'feature9': <tf.Tensor: shape=(), dtype=string, numpy=b'Fort Lauderdale'>}\n",
            "{'feature0': <tf.Tensor: shape=(), dtype=int64, numpy=6>, 'feature1': <tf.Tensor: shape=(), dtype=string, numpy=b'CA-2015-115812'>, 'feature10': <tf.Tensor: shape=(), dtype=string, numpy=b'California'>, 'feature11': <tf.Tensor: shape=(), dtype=float32, numpy=90032.0>, 'feature12': <tf.Tensor: shape=(), dtype=string, numpy=b'West'>, 'feature13': <tf.Tensor: shape=(), dtype=string, numpy=b'FUR-FU-10001487'>, 'feature14': <tf.Tensor: shape=(), dtype=string, numpy=b'Furniture'>, 'feature15': <tf.Tensor: shape=(), dtype=string, numpy=b'Furnishings'>, 'feature16': <tf.Tensor: shape=(), dtype=string, numpy=b'Eldon Expressions Wood and Plastic Desk Accessories, Cherry Wood'>, 'feature17': <tf.Tensor: shape=(), dtype=float32, numpy=48.86>, 'feature2': <tf.Tensor: shape=(), dtype=string, numpy=b'09/06/2015'>, 'feature3': <tf.Tensor: shape=(), dtype=string, numpy=b'14/06/2015'>, 'feature4': <tf.Tensor: shape=(), dtype=string, numpy=b'Standard Class'>, 'feature5': <tf.Tensor: shape=(), dtype=string, numpy=b'BH-11710'>, 'feature6': <tf.Tensor: shape=(), dtype=string, numpy=b'Brosina Hoffman'>, 'feature7': <tf.Tensor: shape=(), dtype=string, numpy=b'Consumer'>, 'feature8': <tf.Tensor: shape=(), dtype=string, numpy=b'United States'>, 'feature9': <tf.Tensor: shape=(), dtype=string, numpy=b'Los Angeles'>}\n",
            "{'feature0': <tf.Tensor: shape=(), dtype=int64, numpy=7>, 'feature1': <tf.Tensor: shape=(), dtype=string, numpy=b'CA-2015-115812'>, 'feature10': <tf.Tensor: shape=(), dtype=string, numpy=b'California'>, 'feature11': <tf.Tensor: shape=(), dtype=float32, numpy=90032.0>, 'feature12': <tf.Tensor: shape=(), dtype=string, numpy=b'West'>, 'feature13': <tf.Tensor: shape=(), dtype=string, numpy=b'OFF-AR-10002833'>, 'feature14': <tf.Tensor: shape=(), dtype=string, numpy=b'Office Supplies'>, 'feature15': <tf.Tensor: shape=(), dtype=string, numpy=b'Art'>, 'feature16': <tf.Tensor: shape=(), dtype=string, numpy=b'Newell 322'>, 'feature17': <tf.Tensor: shape=(), dtype=float32, numpy=7.28>, 'feature2': <tf.Tensor: shape=(), dtype=string, numpy=b'09/06/2015'>, 'feature3': <tf.Tensor: shape=(), dtype=string, numpy=b'14/06/2015'>, 'feature4': <tf.Tensor: shape=(), dtype=string, numpy=b'Standard Class'>, 'feature5': <tf.Tensor: shape=(), dtype=string, numpy=b'BH-11710'>, 'feature6': <tf.Tensor: shape=(), dtype=string, numpy=b'Brosina Hoffman'>, 'feature7': <tf.Tensor: shape=(), dtype=string, numpy=b'Consumer'>, 'feature8': <tf.Tensor: shape=(), dtype=string, numpy=b'United States'>, 'feature9': <tf.Tensor: shape=(), dtype=string, numpy=b'Los Angeles'>}\n",
            "{'feature0': <tf.Tensor: shape=(), dtype=int64, numpy=8>, 'feature1': <tf.Tensor: shape=(), dtype=string, numpy=b'CA-2015-115812'>, 'feature10': <tf.Tensor: shape=(), dtype=string, numpy=b'California'>, 'feature11': <tf.Tensor: shape=(), dtype=float32, numpy=90032.0>, 'feature12': <tf.Tensor: shape=(), dtype=string, numpy=b'West'>, 'feature13': <tf.Tensor: shape=(), dtype=string, numpy=b'TEC-PH-10002275'>, 'feature14': <tf.Tensor: shape=(), dtype=string, numpy=b'Technology'>, 'feature15': <tf.Tensor: shape=(), dtype=string, numpy=b'Phones'>, 'feature16': <tf.Tensor: shape=(), dtype=string, numpy=b'Mitel 5320 IP Phone VoIP phone'>, 'feature17': <tf.Tensor: shape=(), dtype=float32, numpy=907.152>, 'feature2': <tf.Tensor: shape=(), dtype=string, numpy=b'09/06/2015'>, 'feature3': <tf.Tensor: shape=(), dtype=string, numpy=b'14/06/2015'>, 'feature4': <tf.Tensor: shape=(), dtype=string, numpy=b'Standard Class'>, 'feature5': <tf.Tensor: shape=(), dtype=string, numpy=b'BH-11710'>, 'feature6': <tf.Tensor: shape=(), dtype=string, numpy=b'Brosina Hoffman'>, 'feature7': <tf.Tensor: shape=(), dtype=string, numpy=b'Consumer'>, 'feature8': <tf.Tensor: shape=(), dtype=string, numpy=b'United States'>, 'feature9': <tf.Tensor: shape=(), dtype=string, numpy=b'Los Angeles'>}\n",
            "{'feature0': <tf.Tensor: shape=(), dtype=int64, numpy=9>, 'feature1': <tf.Tensor: shape=(), dtype=string, numpy=b'CA-2015-115812'>, 'feature10': <tf.Tensor: shape=(), dtype=string, numpy=b'California'>, 'feature11': <tf.Tensor: shape=(), dtype=float32, numpy=90032.0>, 'feature12': <tf.Tensor: shape=(), dtype=string, numpy=b'West'>, 'feature13': <tf.Tensor: shape=(), dtype=string, numpy=b'OFF-BI-10003910'>, 'feature14': <tf.Tensor: shape=(), dtype=string, numpy=b'Office Supplies'>, 'feature15': <tf.Tensor: shape=(), dtype=string, numpy=b'Binders'>, 'feature16': <tf.Tensor: shape=(), dtype=string, numpy=b'DXL Angle-View Binders with Locking Rings by Samsill'>, 'feature17': <tf.Tensor: shape=(), dtype=float32, numpy=18.504>, 'feature2': <tf.Tensor: shape=(), dtype=string, numpy=b'09/06/2015'>, 'feature3': <tf.Tensor: shape=(), dtype=string, numpy=b'14/06/2015'>, 'feature4': <tf.Tensor: shape=(), dtype=string, numpy=b'Standard Class'>, 'feature5': <tf.Tensor: shape=(), dtype=string, numpy=b'BH-11710'>, 'feature6': <tf.Tensor: shape=(), dtype=string, numpy=b'Brosina Hoffman'>, 'feature7': <tf.Tensor: shape=(), dtype=string, numpy=b'Consumer'>, 'feature8': <tf.Tensor: shape=(), dtype=string, numpy=b'United States'>, 'feature9': <tf.Tensor: shape=(), dtype=string, numpy=b'Los Angeles'>}\n",
            "{'feature0': <tf.Tensor: shape=(), dtype=int64, numpy=10>, 'feature1': <tf.Tensor: shape=(), dtype=string, numpy=b'CA-2015-115812'>, 'feature10': <tf.Tensor: shape=(), dtype=string, numpy=b'California'>, 'feature11': <tf.Tensor: shape=(), dtype=float32, numpy=90032.0>, 'feature12': <tf.Tensor: shape=(), dtype=string, numpy=b'West'>, 'feature13': <tf.Tensor: shape=(), dtype=string, numpy=b'OFF-AP-10002892'>, 'feature14': <tf.Tensor: shape=(), dtype=string, numpy=b'Office Supplies'>, 'feature15': <tf.Tensor: shape=(), dtype=string, numpy=b'Appliances'>, 'feature16': <tf.Tensor: shape=(), dtype=string, numpy=b'Belkin F5C206VTEL 6 Outlet Surge'>, 'feature17': <tf.Tensor: shape=(), dtype=float32, numpy=114.9>, 'feature2': <tf.Tensor: shape=(), dtype=string, numpy=b'09/06/2015'>, 'feature3': <tf.Tensor: shape=(), dtype=string, numpy=b'14/06/2015'>, 'feature4': <tf.Tensor: shape=(), dtype=string, numpy=b'Standard Class'>, 'feature5': <tf.Tensor: shape=(), dtype=string, numpy=b'BH-11710'>, 'feature6': <tf.Tensor: shape=(), dtype=string, numpy=b'Brosina Hoffman'>, 'feature7': <tf.Tensor: shape=(), dtype=string, numpy=b'Consumer'>, 'feature8': <tf.Tensor: shape=(), dtype=string, numpy=b'United States'>, 'feature9': <tf.Tensor: shape=(), dtype=string, numpy=b'Los Angeles'>}\n"
          ]
        }
      ]
    },
    {
      "cell_type": "code",
      "metadata": {
        "id": "E8kJ94Fxnim3"
      },
      "source": [
        ""
      ],
      "execution_count": null,
      "outputs": []
    }
  ]
}