{
  "nbformat": 4,
  "nbformat_minor": 0,
  "metadata": {
    "colab": {
      "name": "ParsingImageRWTFRec.ipynb",
      "provenance": [],
      "collapsed_sections": []
    },
    "kernelspec": {
      "name": "python3",
      "display_name": "Python 3"
    },
    "language_info": {
      "name": "python"
    }
  },
  "cells": [
    {
      "cell_type": "code",
      "metadata": {
        "id": "Ijbhs42E3hat"
      },
      "source": [
        "import tensorflow as tf\n",
        "\n",
        "import numpy as np\n",
        "import IPython.display as display"
      ],
      "execution_count": 2,
      "outputs": []
    },
    {
      "cell_type": "code",
      "metadata": {
        "id": "NOUF_usO3lDl"
      },
      "source": [
        "# The following functions can be used to convert a value to a type compatible\n",
        "# with tf.train.Example.\n",
        "\n",
        "def _bytes_feature(value):\n",
        "  \"\"\"Returns a bytes_list from a string / byte.\"\"\"\n",
        "  if isinstance(value, type(tf.constant(0))):\n",
        "    value = value.numpy() # BytesList won't unpack a string from an EagerTensor.\n",
        "  return tf.train.Feature(bytes_list=tf.train.BytesList(value=[value]))\n",
        "\n",
        "def _float_feature(value):\n",
        "  \"\"\"Returns a float_list from a float / double.\"\"\"\n",
        "  return tf.train.Feature(float_list=tf.train.FloatList(value=[value]))\n",
        "\n",
        "def _int64_feature(value):\n",
        "  \"\"\"Returns an int64_list from a bool / enum / int / uint.\"\"\"\n",
        "  return tf.train.Feature(int64_list=tf.train.Int64List(value=[value]))\n",
        "\n",
        "def serialize_array(array):\n",
        "  array = tf.io.serialize_tensor(array)\n",
        "  return array"
      ],
      "execution_count": 10,
      "outputs": []
    },
    {
      "cell_type": "code",
      "metadata": {
        "colab": {
          "base_uri": "https://localhost:8080/"
        },
        "id": "K7k537Da3nnf",
        "outputId": "ffbd03de-b1c9-4f96-81b0-7b35dba96bfc"
      },
      "source": [
        "image_small_shape = (250,250,3)\n",
        "number_of_images_small = 100\n",
        "\n",
        "images_small = np.random.randint(low=0, high=256, size=(number_of_images_small, *image_small_shape), dtype=np.int16)\n",
        "print(images_small.shape)"
      ],
      "execution_count": 4,
      "outputs": [
        {
          "output_type": "stream",
          "name": "stdout",
          "text": [
            "(100, 250, 250, 3)\n"
          ]
        }
      ]
    },
    {
      "cell_type": "code",
      "metadata": {
        "colab": {
          "base_uri": "https://localhost:8080/"
        },
        "id": "BbwcZPMR3rLO",
        "outputId": "e23341be-9825-451d-95e9-a50e66a329a8"
      },
      "source": [
        "labels_small = np.random.randint(low=0, high=5, size=(number_of_images_small, 1))\n",
        "print(labels_small.shape)\n",
        "print(labels_small[:10])"
      ],
      "execution_count": 5,
      "outputs": [
        {
          "output_type": "stream",
          "name": "stdout",
          "text": [
            "(100, 1)\n",
            "[[4]\n",
            " [3]\n",
            " [0]\n",
            " [0]\n",
            " [0]\n",
            " [2]\n",
            " [1]\n",
            " [4]\n",
            " [3]\n",
            " [2]]\n"
          ]
        }
      ]
    },
    {
      "cell_type": "code",
      "metadata": {
        "id": "fAmVWap_3wWD"
      },
      "source": [
        "def parse_single_image(image, label):\n",
        "  \n",
        "  #define the dictionary -- the structure -- of our single example\n",
        "  data = {\n",
        "        'height' : _int64_feature(image.shape[0]),\n",
        "        'width' : _int64_feature(image.shape[1]),\n",
        "        'depth' : _int64_feature(image.shape[2]),\n",
        "        'raw_image' : _bytes_feature(serialize_array(image)),\n",
        "        'label' : _int64_feature(label)\n",
        "    }\n",
        "  #create an Example, wrapping the single features\n",
        "  return tf.train.Example(features=tf.train.Features(feature=data))"
      ],
      "execution_count": 7,
      "outputs": []
    },
    {
      "cell_type": "code",
      "metadata": {
        "id": "_KbjUwKM33Sb"
      },
      "source": [
        "def write_images_to_tfr_short(images, labels, filename:str=\"images\"):\n",
        "  filename= filename+\".tfrecords\"\n",
        "  writer = tf.io.TFRecordWriter(filename) #create a writer that'll store our data to disk\n",
        "  count = 0\n",
        "\n",
        "  for index in range(len(images)):\n",
        "\n",
        "    #get the data we want to write\n",
        "    current_image = images[index] \n",
        "    current_label = labels[index]\n",
        "\n",
        "    out = parse_single_image(image=current_image, label=current_label)\n",
        "    writer.write(out.SerializeToString())\n",
        "    count += 1\n",
        "\n",
        "  writer.close()\n",
        "  print(f\"Wrote {count} elements to TFRecord\")\n",
        "  return count"
      ],
      "execution_count": 8,
      "outputs": []
    },
    {
      "cell_type": "code",
      "metadata": {
        "colab": {
          "base_uri": "https://localhost:8080/"
        },
        "id": "J_zdEcXZ4IEz",
        "outputId": "d3e23142-dd91-4887-e0b6-439ab2a7b07a"
      },
      "source": [
        "count = write_images_to_tfr_short(images_small, labels_small, filename=\"small_images\")"
      ],
      "execution_count": 11,
      "outputs": [
        {
          "output_type": "stream",
          "name": "stdout",
          "text": [
            "Wrote 100 elements to TFRecord\n"
          ]
        }
      ]
    },
    {
      "cell_type": "code",
      "metadata": {
        "id": "EQcr9Y8_4R2U"
      },
      "source": [
        "def parse_tfr_element(element):\n",
        "  #use the same structure as above; it's kinda an outline of the structure we now want to create\n",
        "  data = {\n",
        "      'height': tf.io.FixedLenFeature([], tf.int64),\n",
        "      'width':tf.io.FixedLenFeature([], tf.int64),\n",
        "      'label':tf.io.FixedLenFeature([], tf.int64),\n",
        "      'raw_image' : tf.io.FixedLenFeature([], tf.string),\n",
        "      'depth':tf.io.FixedLenFeature([], tf.int64),\n",
        "    }\n",
        "\n",
        "    \n",
        "  content = tf.io.parse_single_example(element, data)\n",
        "  \n",
        "  height = content['height']\n",
        "  width = content['width']\n",
        "  depth = content['depth']\n",
        "  label = content['label']\n",
        "  raw_image = content['raw_image']\n",
        "  \n",
        "  \n",
        "  #get our 'feature'-- our image -- and reshape it appropriately\n",
        "  feature = tf.io.parse_tensor(raw_image, out_type=tf.int16)\n",
        "  feature = tf.reshape(feature, shape=[height,width,depth])\n",
        "  return (feature, label)"
      ],
      "execution_count": 12,
      "outputs": []
    },
    {
      "cell_type": "code",
      "metadata": {
        "id": "wUsbFOE15E7k"
      },
      "source": [
        "def get_dataset_small(filename):\n",
        "  #create the dataset\n",
        "  dataset = tf.data.TFRecordDataset(filename)\n",
        "\n",
        "  #pass every single feature through our mapping function\n",
        "  dataset = dataset.map(\n",
        "      parse_tfr_element\n",
        "  )\n",
        "    \n",
        "  return dataset"
      ],
      "execution_count": 13,
      "outputs": []
    },
    {
      "cell_type": "code",
      "metadata": {
        "colab": {
          "base_uri": "https://localhost:8080/"
        },
        "id": "b8N_u2zO5P1s",
        "outputId": "db62972a-64d3-4144-eac4-40a0d03d3b05"
      },
      "source": [
        "dataset_small = get_dataset_small(\"/content/small_images.tfrecords\")\n",
        "\n",
        "for sample in dataset_small.take(1):\n",
        "  print(sample[0].shape)\n",
        "  print(sample[1].shape)"
      ],
      "execution_count": 14,
      "outputs": [
        {
          "output_type": "stream",
          "name": "stdout",
          "text": [
            "(250, 250, 3)\n",
            "()\n"
          ]
        }
      ]
    }
  ]
}